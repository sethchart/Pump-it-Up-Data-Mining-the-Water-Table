{
 "cells": [
  {
   "cell_type": "markdown",
   "metadata": {},
   "source": [
    "#### Import Required Modules\n",
    "Below I collect the tools that I will use to build the model. After initial exploratory modeling I found that `XGBClassifier` provided the best performance, measured in terms of model accuracy.  "
   ]
  },
  {
   "cell_type": "code",
   "execution_count": null,
   "metadata": {},
   "outputs": [],
   "source": [
    "#Basics\n",
    "import pandas as pd\n",
    "import numpy as np\n",
    "\n",
    "#Plotting\n",
    "import matplotlib.pyplot as plt\n",
    "import seaborn as sns\n",
    "sns.set_context('notebook')\n",
    "\n",
    "#Train Test Split\n",
    "from sklearn.model_selection import train_test_split\n",
    "\n",
    "# Imputer\n",
    "from sklearn.impute import SimpleImputer\n",
    "\n",
    "# Preprocessing\n",
    "from sklearn.compose import ColumnTransformer\n",
    "from sklearn.preprocessing import (\n",
    "    OneHotEncoder, \n",
    "    StandardScaler, \n",
    "    FunctionTransformer)\n",
    "\n",
    "# Classifiers\n",
    "from xgboost import XGBClassifier\n",
    "from sklearn.multiclass import OneVsRestClassifier\n",
    "\n",
    "#Pipeline\n",
    "from sklearn.pipeline import Pipeline\n",
    "\n",
    "#Grid Search\n",
    "from sklearn.model_selection import GridSearchCV\n",
    "\n",
    "# Model evaluation\n",
    "from sklearn.metrics import plot_confusion_matrix"
   ]
  },
  {
   "cell_type": "markdown",
   "metadata": {},
   "source": [
    "#### Set Random State\n",
    "There are a few steps below where random processes require a seed. For reproducibility, I set a default random state below.  "
   ]
  },
  {
   "cell_type": "code",
   "execution_count": null,
   "metadata": {},
   "outputs": [],
   "source": [
    "random_state = 42"
   ]
  },
  {
   "cell_type": "markdown",
   "metadata": {},
   "source": [
    "#### Select Columns to Drop from the Model\n",
    "Provide a list of variables that should be dropped from the model. I have not observed any improvement in model performance from dropping data, measured in terms of accuracy. Training time is obviously improved by dropping columns but there seems to be a small price to pay in terms of accuracy for reducing the number of available features."
   ]
  },
  {
   "cell_type": "code",
   "execution_count": null,
   "metadata": {},
   "outputs": [],
   "source": [
    "drop_cols = []"
   ]
  },
  {
   "cell_type": "markdown",
   "metadata": {},
   "source": [
    "#### Import Data\n",
    "Because of the submission format requirements for the competition, it is vital that I retain the index column through out modeling so that I are able to produce predictions that can be validated using the competition's validation data."
   ]
  },
  {
   "cell_type": "code",
   "execution_count": null,
   "metadata": {},
   "outputs": [],
   "source": [
    "features = pd.read_csv(\n",
    "    filepath_or_buffer='../data/training_features.csv', \n",
    "    index_col='id'\n",
    ")\n",
    "targets = pd.read_csv(\n",
    "    filepath_or_buffer='../data/training_labels.csv', \n",
    "    ndex_col='id'\n",
    "                     )\n",
    "df = features.join(targets, how='left')\n",
    "X = df.drop('status_group', axis=1)\n",
    "y = df['status_group']"
   ]
  },
  {
   "cell_type": "markdown",
   "metadata": {},
   "source": [
    "#### Make Test Train Split\n",
    "For the purposes of model tuning I hold 10% of the data out for local testing."
   ]
  },
  {
   "cell_type": "code",
   "execution_count": null,
   "metadata": {},
   "outputs": [],
   "source": [
    "X_train, X_test, y_train, y_test = train_test_split(\n",
    "    X, \n",
    "    y, \n",
    "    test_size=0.1, \n",
    "    random_state=random_state\n",
    ")"
   ]
  },
  {
   "cell_type": "markdown",
   "metadata": {},
   "source": [
    "#### Data Validation\n",
    "I experimented with both manual and automated feature selection, hoIver neither approach improved model performance. Initially, I had issues with mixed data types in both the `public_meeting` and `permit` columns. The function below converts all categorical variables to strings to eliminate thoes errors. "
   ]
  },
  {
   "cell_type": "code",
   "execution_count": null,
   "metadata": {},
   "outputs": [],
   "source": [
    "def convert_categorical_to_string(data):\n",
    "    return pd.DataFrame(data).astype(str)\n",
    "\n",
    "CategoricalTypeConverter = FunctionTransformer(\n",
    "    convert_categorical_to_string\n",
    ")"
   ]
  },
  {
   "cell_type": "markdown",
   "metadata": {},
   "source": [
    "#### Classify Variables\n",
    "I will need to pre-process the data in preparation for classification. Pre-processing is different for categorical and numerical variables. In order to implement different pre-pricessing flows, I must first classify all of the variables as categorical or numerical. The function below separates columns into these two classes and excludes any variables that will be dropped from the model."
   ]
  },
  {
   "cell_type": "code",
   "execution_count": null,
   "metadata": {},
   "outputs": [],
   "source": [
    "def classify_columns(df, drop_cols):\n",
    "    \"\"\"Takes a dataframe and a list of columns to \n",
    "    drop and returns:\n",
    "        - cat_cols: A list of categorical columns.\n",
    "        - num_cols: A list of numerical columns.\n",
    "    \"\"\"\n",
    "    cols = df.columns\n",
    "    keep_cols = [col for col in cols if col not in drop_cols]\n",
    "    cat_cols = []\n",
    "    num_cols = []\n",
    "    for col in keep_cols:\n",
    "        if df[col].dtype == object:\n",
    "            cat_cols.append(col)\n",
    "        else:\n",
    "            num_cols.append(col)\n",
    "    return cat_cols, num_cols"
   ]
  },
  {
   "cell_type": "code",
   "execution_count": null,
   "metadata": {},
   "outputs": [],
   "source": [
    "cat_cols, num_cols = classify_columns(X_train, drop_cols)"
   ]
  },
  {
   "cell_type": "markdown",
   "metadata": {},
   "source": [
    "### Build Preprocessor\n",
    "Below I build a preprocessing step for the pipeline which handles all data processing."
   ]
  },
  {
   "cell_type": "markdown",
   "metadata": {},
   "source": [
    "#### Categorical Preprocessing Pipeline\n",
    "The pipeline below executes the following three steps for all of the categorical data.\n",
    "1. Convert all values in categorical columns to strings. This avoids data type errors in the following steps.\n",
    "2. Fill all missing values with the string `missing`.\n",
    "3. One-hot encode all categorical variables. Because this data contains categorical variables with many possible values, it is possible to encounter values in testing data that was not present in the training data. For this reason, I need to set `handel_unknown` to `ignore` so that the encoder will simply ignore unknown values in testing data."
   ]
  },
  {
   "cell_type": "code",
   "execution_count": null,
   "metadata": {},
   "outputs": [],
   "source": [
    "categorical_pipeline = Pipeline(\n",
    "    steps=[\n",
    "        (\n",
    "            'typeConverter', \n",
    "            CategoricalTypeConverter\n",
    "        ),\n",
    "        (\n",
    "            'imputer', \n",
    "            SimpleImputer(\n",
    "                strategy='constant', \n",
    "                fill_value='missing'\n",
    "            )\n",
    "        ),\n",
    "        (\n",
    "            'standardizer', \n",
    "            OneHotEncoder(\n",
    "                handle_unknown='ignore',\n",
    "                dtype=float\n",
    "            )\n",
    "        )\n",
    "    ]\n",
    ")"
   ]
  },
  {
   "cell_type": "markdown",
   "metadata": {},
   "source": [
    "#### Numerical Preprocessing Pipeline\n",
    "The pipeline below executes two steps:\n",
    "1. Imputes missing values in any numerical column with the median value from that column.\n",
    "2. Scales each variable to have mean zero and standard deviation one."
   ]
  },
  {
   "cell_type": "code",
   "execution_count": null,
   "metadata": {},
   "outputs": [],
   "source": [
    "numerical_pipeline = Pipeline(\n",
    "    steps=[\n",
    "        (\n",
    "            'imputer', \n",
    "            SimpleImputer(\n",
    "                strategy='median'\n",
    "            )\n",
    "        ),\n",
    "        (\n",
    "            'standardizer', \n",
    "            StandardScaler()\n",
    "        )\n",
    "    ]\n",
    ")"
   ]
  },
  {
   "cell_type": "markdown",
   "metadata": {},
   "source": [
    "#### Preprocessing Pipeline\n",
    "The column transformer below implements each of the three possible pre-processing behaviors. \n",
    "1. Apply the categorical pipeline.\n",
    "2. Apply the numerical pipeline.\n",
    "3. Drop the specified columns.\n",
    "The if-then statement below ensures that the drop processor is only implemented if there are columns to drop. This is needed since passing an empty `drop_col` list throws an error."
   ]
  },
  {
   "cell_type": "code",
   "execution_count": null,
   "metadata": {},
   "outputs": [],
   "source": [
    "if len(drop_cols) > 0:\n",
    "    preprocessor = ColumnTransformer(\n",
    "        transformers=[\n",
    "            (\n",
    "                'numericalPreprocessor', \n",
    "                numerical_pipeline, \n",
    "                num_cols\n",
    "            ),\n",
    "            (\n",
    "                'categoricalPreprocessor', \n",
    "                categorical_pipeline, \n",
    "                cat_cols\n",
    "            ),\n",
    "            (\n",
    "                'dropPreprocessor', \n",
    "                'drop', \n",
    "                drop_cols\n",
    "            )\n",
    "        ]\n",
    "    )\n",
    "else:\n",
    "    preprocessor = ColumnTransformer(\n",
    "        transformers=[\n",
    "            (\n",
    "                'numericalPreprocessor', \n",
    "                numerical_pipeline, \n",
    "                num_cols\n",
    "            ),\n",
    "            (\n",
    "                'categoricalPreprocessor', \n",
    "                categorical_pipeline, \n",
    "                cat_cols\n",
    "            )\n",
    "        ]\n",
    "    )"
   ]
  },
  {
   "cell_type": "markdown",
   "metadata": {},
   "source": [
    "### Build Model Pipeline\n",
    "Below I build the main pipeline which executes two steps.\n",
    "1. Apply preprocessing to the raw data.\n",
    "2. Fit a one vs rest classifier to the processed data using an eXtreme Gradient Boosted forest model."
   ]
  },
  {
   "cell_type": "code",
   "execution_count": null,
   "metadata": {},
   "outputs": [],
   "source": [
    "pipeline = Pipeline(\n",
    "    steps=[\n",
    "        (\n",
    "            'preprocessor', \n",
    "            preprocessor\n",
    "        ),\n",
    "        (\n",
    "            'classifier', \n",
    "            OneVsRestClassifier(\n",
    "                estimator='passthrough'\n",
    "            )\n",
    "        )\n",
    "    ]\n",
    ")"
   ]
  },
  {
   "cell_type": "markdown",
   "metadata": {},
   "source": [
    "### Building Parameter Grid\n",
    "Below I define a grid of hyper-parameters for the pipeline that will be tested in a grid search below."
   ]
  },
  {
   "cell_type": "code",
   "execution_count": null,
   "metadata": {},
   "outputs": [],
   "source": [
    "parameter_grid = [\n",
    "    {\n",
    "        'classifier__estimator': [\n",
    "            XGBClassifier()\n",
    "        ],\n",
    "        'classifier__estimator__max_depth': [\n",
    "            5, 10, 15, 20\n",
    "        ],\n",
    "        'classifier__estimator__n_estimators': [\n",
    "            100, 150, 200, 250\n",
    "        ]\n",
    "    }\n",
    "]"
   ]
  },
  {
   "cell_type": "markdown",
   "metadata": {},
   "source": [
    "### Instantiate Grid Search\n",
    "Below I instantiate a grid search object which will fit the pipeline for every combination of the parameters defined above. Since the competition uses accuracy as it's measure of model quality, I sill evaluate model performance in terms of accuracy. For each parameter combination, the grid search will also execute five-fold cross validation. \n",
    "\n",
    "In order to maximize performance, I will fit the grid search on the full provided training data set and select the best hyper-parameters based on the results of cross validation. For the purposes of local model evaluation, I will then refit the best model on the local training data and use the local testing data to produce a confusion matrix."
   ]
  },
  {
   "cell_type": "code",
   "execution_count": null,
   "metadata": {},
   "outputs": [],
   "source": [
    "grid_search = GridSearchCV(\n",
    "    estimator=pipeline, \n",
    "    param_grid=parameter_grid, \n",
    "    scoring='accuracy', \n",
    "    cv=5, \n",
    "    verbose=2, \n",
    "    n_jobs=-2,\n",
    "    refit=True\n",
    ")"
   ]
  },
  {
   "cell_type": "markdown",
   "metadata": {},
   "source": [
    "### Fit Grid Search\n",
    "Below I fit the grid search on the full training set and select the best model hyper-parameters. This step takes an Extremely long time to run."
   ]
  },
  {
   "cell_type": "code",
   "execution_count": null,
   "metadata": {
    "scrolled": false
   },
   "outputs": [],
   "source": [
    "grid_search.fit(\n",
    "    X, y\n",
    ")\n",
    "model = grid_search.best_estimator_"
   ]
  },
  {
   "cell_type": "markdown",
   "metadata": {},
   "source": [
    "### Display Results of Grid Search\n",
    "Below I display the results of the grid search. I pay particular attention to `std_test_score` which will become larger if the model is over-fit. "
   ]
  },
  {
   "cell_type": "code",
   "execution_count": null,
   "metadata": {},
   "outputs": [],
   "source": [
    "grid_search_results = pd.DataFrame(\n",
    "    grid_search.cv_results_\n",
    ")\n",
    "grid_search_results.to_csv(\n",
    "    '../reports/grid_search_results.csv'\n",
    ")"
   ]
  },
  {
   "cell_type": "code",
   "execution_count": null,
   "metadata": {},
   "outputs": [],
   "source": [
    "grid_search_results"
   ]
  },
  {
   "cell_type": "markdown",
   "metadata": {},
   "source": [
    "#### Plotting Model Accuracy"
   ]
  },
  {
   "cell_type": "code",
   "execution_count": null,
   "metadata": {
    "scrolled": false
   },
   "outputs": [],
   "source": [
    "fig, ax = plt.subplots()\n",
    "fig.set_figheight(6)\n",
    "fig.set_figwidth(8)\n",
    "sns.lineplot(\n",
    "    x='param_classifier__estimator__max_depth',\n",
    "    y='mean_test_score', \n",
    "    hue='param_classifier__estimator__n_estimators',\n",
    "    data=grid_search_results,\n",
    "    ax=ax\n",
    ")\n",
    "handles, labels = ax.get_legend_handles_labels()\n",
    "ax.legend(\n",
    "    handles=handles[1:], \n",
    "    labels=labels[1:], \n",
    "    title=\"Number of Estimators\"\n",
    ");\n",
    "ax.set_xlabel(\n",
    "    'Max Depth'\n",
    ");\n",
    "ax.set_ylabel(\n",
    "    'Mean Test Score'\n",
    ");\n",
    "ax.set_title(\n",
    "    'XGBClassifier Model Accuracy'\n",
    ");\n",
    "fig.savefig(\n",
    "    '../images/Model_Accuracy.png', \n",
    "    bbox_inches='tight'\n",
    ")"
   ]
  },
  {
   "cell_type": "markdown",
   "metadata": {},
   "source": [
    "#### Plotting Fit Time"
   ]
  },
  {
   "cell_type": "code",
   "execution_count": null,
   "metadata": {
    "scrolled": false
   },
   "outputs": [],
   "source": [
    "fig, ax = plt.subplots()\n",
    "fig.set_figheight(6)\n",
    "fig.set_figwidth(8)\n",
    "sns.lineplot(\n",
    "    x='param_classifier__estimator__max_depth',\n",
    "    y='mean_fit_time', \n",
    "    hue='param_classifier__estimator__n_estimators',\n",
    "    data=grid_search_results,\n",
    "    ax=ax\n",
    ")\n",
    "handles, labels = ax.get_legend_handles_labels()\n",
    "ax.legend(\n",
    "    handles=handles[1:],\n",
    "    labels=labels[1:], \n",
    "    title=\"Number of Estimators\"\n",
    ");\n",
    "ax.set_xlabel(\n",
    "    'Max Depth'\n",
    ");\n",
    "ax.set_ylabel(\n",
    "    'Mean Fit Time (sec)'\n",
    ");\n",
    "ax.set_title(\n",
    "    'XGBClassifier Model Fit Time'\n",
    ");\n",
    "fig.savefig(\n",
    "    '../images/Model_Fit_Time.png', \n",
    "    bbox_inches='tight'\n",
    ")"
   ]
  },
  {
   "cell_type": "markdown",
   "metadata": {},
   "source": [
    "### Predict on Validation Data\n",
    "Below I import the testing data provided by the competition. To maximize performance I refit the model on the full training data set. Predictions are formatted and saved to CSV for submission."
   ]
  },
  {
   "cell_type": "code",
   "execution_count": null,
   "metadata": {},
   "outputs": [],
   "source": [
    "X_validate = pd.read_csv(\n",
    "    '../data/testing_features.csv', \n",
    "    index_col='id'\n",
    ")\n",
    "y_validate = model.predict(\n",
    "    X_validate\n",
    ")\n",
    "df_predictions = pd.DataFrame(\n",
    "    y_validate, \n",
    "    index=X_validate.index, \n",
    "    columns=['status_group']\n",
    ")\n",
    "df_predictions.to_csv(\n",
    "    '../predictions/final_model.csv'\n",
    ")"
   ]
  },
  {
   "cell_type": "markdown",
   "metadata": {},
   "source": [
    "### Produce Confusion Matrix\n",
    "Below I fit the model on the local training data and produce a confusion matrix using the local test data. This provides a reasonable indication of how the model performs. Because the model needs to be fit before producing the matrix, this step will take a long time to run."
   ]
  },
  {
   "cell_type": "markdown",
   "metadata": {},
   "source": [
    "#### Refitting Model on Local Training Set"
   ]
  },
  {
   "cell_type": "code",
   "execution_count": null,
   "metadata": {},
   "outputs": [],
   "source": [
    "model.fit(\n",
    "    X_train, \n",
    "    y_train\n",
    ")"
   ]
  },
  {
   "cell_type": "markdown",
   "metadata": {},
   "source": [
    "#### Computing Confusion Matrix on Local Testing Set"
   ]
  },
  {
   "cell_type": "code",
   "execution_count": null,
   "metadata": {},
   "outputs": [],
   "source": [
    "fig, ax = plt.subplots()\n",
    "fig.set_figheight(8)\n",
    "fig.set_figwidth(8)\n",
    "plot_confusion_matrix(\n",
    "    model, X_test, \n",
    "    y_test, \n",
    "    ax=ax, \n",
    "    normalize='true', \n",
    "    include_values=True\n",
    ")\n",
    "fig.savefig(\n",
    "    '../images/Confusion_Matrix.png', \n",
    "    bbox_inches='tight'\n",
    ")"
   ]
  },
  {
   "cell_type": "markdown",
   "metadata": {},
   "source": [
    "### Confusion Matrix Analysis\n",
    "I can see that accuracy is worst on the 'functional needs repair' group as I would expect. This class is under represented in the data and is most likely somewhat ambiguously defined in comparison to the other classifications. "
   ]
  },
  {
   "cell_type": "markdown",
   "metadata": {},
   "source": [
    "### Future Work\n",
    "The two most promising directions for further work seem to be:\n",
    "1. Integrating re-sampling into the pipeline to improve accuracy on the 'functional needs repair' class.\n",
    "2. Implementing hierarchical models or stacked models."
   ]
  }
 ],
 "metadata": {
  "kernelspec": {
   "display_name": "flatiron",
   "language": "python",
   "name": "flatiron"
  },
  "language_info": {
   "codemirror_mode": {
    "name": "ipython",
    "version": 3
   },
   "file_extension": ".py",
   "mimetype": "text/x-python",
   "name": "python",
   "nbconvert_exporter": "python",
   "pygments_lexer": "ipython3",
   "version": "3.6.9"
  }
 },
 "nbformat": 4,
 "nbformat_minor": 4
}
