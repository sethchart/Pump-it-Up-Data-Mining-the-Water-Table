{
 "cells": [
  {
   "cell_type": "markdown",
   "metadata": {},
   "source": [
    "## Inspecting the Training Data\n",
    "In this section we inspect the training data and group variables for further analysis."
   ]
  },
  {
   "cell_type": "markdown",
   "metadata": {},
   "source": [
    "### Importing the Train Test Split\n",
    "Below we import the train test split that we created in the [ImportData](ImportData.ipynb) notebook. The `train_test_split` object is a dictionary containing dataframes as values."
   ]
  },
  {
   "cell_type": "code",
   "execution_count": null,
   "metadata": {},
   "outputs": [],
   "source": [
    "import pickle\n",
    "with open('../data/train_test_split.pkl', mode='rb') as f:\n",
    "    train_teast_split = pickle.load(f)"
   ]
  },
  {
   "cell_type": "markdown",
   "metadata": {},
   "source": [
    "### Extracting Training Data"
   ]
  },
  {
   "cell_type": "code",
   "execution_count": null,
   "metadata": {},
   "outputs": [],
   "source": [
    "X_train = train_teast_split['X_train']\n",
    "y_train = train_teast_split['y_train']"
   ]
  },
  {
   "cell_type": "markdown",
   "metadata": {},
   "source": [
    "### Inspecting the Shape of the Training Data\n",
    "We observe that our training data contains 53,460 observations of thirty-nine features and one target."
   ]
  },
  {
   "cell_type": "code",
   "execution_count": null,
   "metadata": {},
   "outputs": [],
   "source": [
    "print('X_train shape: ', X_train.shape)\n",
    "print('y_train shape: ', y_train.shape)"
   ]
  },
  {
   "cell_type": "markdown",
   "metadata": {},
   "source": [
    "### Inspecting Data Types\n",
    "Below we see that out of thirty-nine features nine are numerical and 30 are categorical."
   ]
  },
  {
   "cell_type": "code",
   "execution_count": null,
   "metadata": {},
   "outputs": [],
   "source": [
    "X_train.dtypes.value_counts()"
   ]
  },
  {
   "cell_type": "markdown",
   "metadata": {},
   "source": [
    "The list below shows the data type for each feature."
   ]
  },
  {
   "cell_type": "code",
   "execution_count": null,
   "metadata": {},
   "outputs": [],
   "source": [
    "X_train.dtypes.sort_index()"
   ]
  },
  {
   "cell_type": "markdown",
   "metadata": {},
   "source": [
    "Note that the `date_recorded` variable contains string encoded dates. Otherwise, the assigned data types seem reasonable."
   ]
  },
  {
   "cell_type": "code",
   "execution_count": null,
   "metadata": {},
   "outputs": [],
   "source": [
    "X_train[['date_recorded']].head()"
   ]
  },
  {
   "cell_type": "markdown",
   "metadata": {},
   "source": [
    "### Checking for Missing Values\n",
    "Below we check for features with missing values. There are seven features with missing values and thirty-two without."
   ]
  },
  {
   "cell_type": "code",
   "execution_count": null,
   "metadata": {},
   "outputs": [],
   "source": [
    "X_train.isnull().any().value_counts()"
   ]
  },
  {
   "cell_type": "markdown",
   "metadata": {},
   "source": [
    "The list below shows which features have missing values."
   ]
  },
  {
   "cell_type": "code",
   "execution_count": null,
   "metadata": {},
   "outputs": [],
   "source": [
    "X_train.isnull().any().sort_index()"
   ]
  },
  {
   "cell_type": "markdown",
   "metadata": {},
   "source": [
    "### Classification of Features\n",
    "Below we group features by the type of data that they contain. We referred to the competition [feature descriptions](https://www.drivendata.org/competitions/7/pump-it-up-data-mining-the-water-table/page/25/) when grouping variables."
   ]
  },
  {
   "cell_type": "code",
   "execution_count": null,
   "metadata": {},
   "outputs": [],
   "source": [
    "feature_classification = {\n",
    "    'Geospatial': [\n",
    "        'longitude',\n",
    "        'latitude',\n",
    "        'gps_height'\n",
    "    ],\n",
    "    'Regional': [\n",
    "        'region',\n",
    "        'region_code',\n",
    "        'lga',\n",
    "        'district_code',\n",
    "        'ward',\n",
    "        'subvillage'\n",
    "    ],\n",
    "    'Water': [\n",
    "        'basin',\n",
    "        'water_quality',\n",
    "        'quality_group',\n",
    "        'quantity',\n",
    "        'quantity_group',\n",
    "        'source',\n",
    "        'source_class',\n",
    "        'source_type'\n",
    "    ],\n",
    "    'WaterpointNumerical': [\n",
    "        'amount_tsh',\n",
    "        'population'\n",
    "    ],\n",
    "    'WaterpointCategorical': [\n",
    "        'wpt_name',\n",
    "        'extraction_type',\n",
    "        'extraction_type_class',\n",
    "        'extraction_type_group',\n",
    "        'waterpoint_type',\n",
    "        'waterpoint_type_group'\n",
    "    ],\n",
    "    'Management': [\n",
    "        'management',\n",
    "        'management_group',\n",
    "        'payment',\n",
    "        'payment_type',\n",
    "        'permit', \n",
    "        'scheme_management', \n",
    "        'scheme_name'\n",
    "    ],\n",
    "    'Installation': [\n",
    "        'construction_year',\n",
    "        'installer',\n",
    "        'funder'\n",
    "    ],\n",
    "    'Data Collection': [\n",
    "        'date_recorded',\n",
    "        'recorded_by'\n",
    "    ],\n",
    "    'Unknown': [\n",
    "        'num_private',\n",
    "        'public_meeting'\n",
    "    ]\n",
    "}"
   ]
  },
  {
   "cell_type": "code",
   "execution_count": null,
   "metadata": {},
   "outputs": [],
   "source": [
    "feature_count = 0\n",
    "cols = list(X_train.columns)\n",
    "for key in feature_classification.keys():\n",
    "    print('- ', key)\n",
    "    for feature in feature_classification[key]:\n",
    "        print('\\t- ', feature)\n",
    "        cols.remove(feature)\n",
    "        feature_count += 1\n",
    "print('\\nTotal Feature Count: ', feature_count)\n",
    "print('Unclassified Features: ', cols)"
   ]
  },
  {
   "cell_type": "code",
   "execution_count": null,
   "metadata": {},
   "outputs": [],
   "source": []
  }
 ],
 "metadata": {
  "kernelspec": {
   "display_name": "flatiron",
   "language": "python",
   "name": "flatiron"
  },
  "language_info": {
   "codemirror_mode": {
    "name": "ipython",
    "version": 3
   },
   "file_extension": ".py",
   "mimetype": "text/x-python",
   "name": "python",
   "nbconvert_exporter": "python",
   "pygments_lexer": "ipython3",
   "version": "3.6.9"
  }
 },
 "nbformat": 4,
 "nbformat_minor": 4
}
