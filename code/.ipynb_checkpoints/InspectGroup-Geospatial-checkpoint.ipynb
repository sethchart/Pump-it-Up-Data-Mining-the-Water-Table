{
 "cells": [
  {
   "cell_type": "markdown",
   "metadata": {},
   "source": [
    "### Inspecting the Geospatial Feature Group"
   ]
  },
  {
   "cell_type": "code",
   "execution_count": null,
   "metadata": {},
   "outputs": [],
   "source": [
    "import matplotlib.pyplot as plt\n",
    "from data_utilities import DataWrapper\n",
    "data = DataWrapper()\n",
    "X_train = data.X_train"
   ]
  },
  {
   "cell_type": "code",
   "execution_count": null,
   "metadata": {},
   "outputs": [],
   "source": [
    "def geospatial_scatter(df):\n",
    "    fig = plt.figure(figsize=(10,10))\n",
    "    plt.scatter(x='longitude', y='latitude', c='gps_height', data=df)\n",
    "    cbar = plt.colorbar()\n",
    "    cbar.set_label('GPS Height (meters)', rotation=270);\n",
    "    plt.title('Spatial Coordinates of Waterpoints');\n",
    "    plt.xlabel('Longitude');\n",
    "    plt.ylabel('Latitude');\n",
    "    return fig"
   ]
  },
  {
   "cell_type": "code",
   "execution_count": null,
   "metadata": {},
   "outputs": [],
   "source": [
    "fig = geospatial_scatter(X_train)\n",
    "fig.savefig('../images/geo-spatial_coordinates.png', bbox_inches='tight')"
   ]
  },
  {
   "cell_type": "markdown",
   "metadata": {},
   "source": [
    "Notice that there are waterpoints with latitude and longitude equal to zero. These are almost surely waterpoints with missing values that have been encoded using dummy values. Based on the geography of Tanzania we would expect our data to fall within the following intervals.\n",
    "* Longitude: [29.6, 40.4]\n",
    "* Latitude: [-11.7, -0.8]\n",
    "* Altitude: [0, 5895]\n",
    "Let's take a look at the values that fall outside of the allowed intervals."
   ]
  },
  {
   "cell_type": "code",
   "execution_count": null,
   "metadata": {},
   "outputs": [],
   "source": [
    "geospatialErrors = X_train.query(\n",
    "    'longitude < 29.6 or longitude >40.4 or latitude < -11.7 or latitude > -0.8 or gps_height < 0 or gps_height > 5895'\n",
    ")\n",
    "print(f'There are {len(geospatialErrors)} rows, roughly {round(len(geospatialErrors)/len(X_train)*100)}% of our data, with geospatial coordinates that fall outside our bounds.')\n",
    "print(geospatialErrors[['longitude', 'latitude', 'gps_height']].value_counts())\n",
    "\n",
    "geospatial_scatter(geospatialErrors);"
   ]
  },
  {
   "cell_type": "markdown",
   "metadata": {},
   "source": [
    "It looks like all of the values that are not zero encoded missing values are coastal waterpoints with a negative `gps_heaight`. This indicates that `gps_height` may refer to the altitude of the bottom of a well in some cases. Therfore, our initial bounds need to be relaxed to allow for waterpoints with heights below sea level."
   ]
  },
  {
   "cell_type": "code",
   "execution_count": null,
   "metadata": {},
   "outputs": [],
   "source": [
    "geospatialErrors = X_train.query(\n",
    "    'longitude < 29.6 or longitude >40.4 or latitude < -11.7 or latitude > -0.8 or gps_height > 5895'\n",
    ")\n",
    "print(f'There are {len(geospatialErrors)} rows, roughly {round(len(geospatialErrors)/len(X_train)*100)}% of our data, with geospatial coordinates that fall outside our bounds.')\n",
    "print(geospatialErrors[['longitude', 'latitude', 'gps_height']].value_counts())\n",
    "\n",
    "fig = plt.figure(figsize=(10,10))\n",
    "plt.scatter(x='longitude', y='latitude', c='gps_height', data=geospatialErrors)\n",
    "cbar = plt.colorbar()\n",
    "cbar.set_label('GPS Height (meters)', rotation=270);\n",
    "plt.title('Spatial Coordinates of Waterpoints');\n",
    "plt.xlabel('Longitude');\n",
    "plt.ylabel('Latitude');\n",
    "#fig.savefig('../images/geo-spatial_coordinates.png', bbox_inches='tight')"
   ]
  },
  {
   "cell_type": "markdown",
   "metadata": {},
   "source": [
    "#### Conclusion\n",
    "About 3% of our training data has zero encoded missing values in the Geospatial feature group. While these values are not ideal, they should not have a substantial negative effect on the model. I will leave them in place. Below we revise our bounds and note that `gps_height` may not refer to the surface altitude of a waterpoint, but rather incorporate the depth of a well in some cases.\n",
    "* Longitude: [29.6, 40.4]\n",
    "* Latitude: [-11.7, -0.8]\n",
    "* GPS Height: less than 5895."
   ]
  },
  {
   "cell_type": "markdown",
   "metadata": {},
   "source": [
    "#### Future Work\n",
    "Imputing missing values based on regional data would be a good way to improve handling of the zero encoded missing values. Thanks to Kristen for this recommendation."
   ]
  }
 ],
 "metadata": {
  "kernelspec": {
   "display_name": "flatiron",
   "language": "python",
   "name": "flatiron"
  },
  "language_info": {
   "codemirror_mode": {
    "name": "ipython",
    "version": 3
   },
   "file_extension": ".py",
   "mimetype": "text/x-python",
   "name": "python",
   "nbconvert_exporter": "python",
   "pygments_lexer": "ipython3",
   "version": "3.6.9"
  }
 },
 "nbformat": 4,
 "nbformat_minor": 4
}
