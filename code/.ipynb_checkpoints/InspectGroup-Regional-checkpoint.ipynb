{
 "cells": [
  {
   "cell_type": "markdown",
   "metadata": {},
   "source": [
    "## Inspecting the Regional Feature Group\n",
    "Tanzania is organized into 31 [administrative regions](https://en.wikipedia.org/wiki/Regions_of_Tanzania). Each of these regions are subdivided into [districts](https://en.wikipedia.org/wiki/Districts_of_Tanzania). Each district contains wards which, in turn, contain sub-villages. The variables below describe the location of a waterpoint in terms of this naming scheme. The regions and districts are coded, however I was not able to reconcile the codes with any publicly available encoding scheme.\n",
    "* `region` (`region_code`)  - Names (codes) for top-level administrative regions.\n",
    "* `lga` (`district_code`) - Names (codes) for districts, which divide regions.\n",
    "* `ward` - Names for wards, which divide districts.\n",
    "* `subvillage` - Names for sub-villages, presumably these subdivide wards. "
   ]
  },
  {
   "cell_type": "code",
   "execution_count": null,
   "metadata": {},
   "outputs": [],
   "source": [
    "from data_utilities import DataVisualization\n",
    "viz = DataVisualization()\n",
    "X_train = viz.X_train"
   ]
  },
  {
   "cell_type": "markdown",
   "metadata": {},
   "source": [
    "In this group, only the variable `subvillage` has missing values. "
   ]
  },
  {
   "cell_type": "code",
   "execution_count": null,
   "metadata": {},
   "outputs": [],
   "source": [
    "regional = ['region', 'lga', 'ward', 'subvillage']\n",
    "print(X_train[regional].isnull().any())"
   ]
  },
  {
   "cell_type": "code",
   "execution_count": null,
   "metadata": {},
   "outputs": [],
   "source": [
    "for col in regional:\n",
    "    print(f'- {col} has {len(X_train[col].unique())} unique values.')"
   ]
  },
  {
   "cell_type": "code",
   "execution_count": null,
   "metadata": {},
   "outputs": [],
   "source": [
    "lst = sorted(list(X_train['region'].unique()))\n",
    "print(f'Our data contains information about waterpoints in the following {len(lst)} regions:\\n')\n",
    "print(lst)"
   ]
  },
  {
   "cell_type": "markdown",
   "metadata": {},
   "source": [
    "The function below takes a"
   ]
  },
  {
   "cell_type": "code",
   "execution_count": null,
   "metadata": {},
   "outputs": [],
   "source": [
    "viz.barplot_waterpoints(['region']);"
   ]
  },
  {
   "cell_type": "markdown",
   "metadata": {},
   "source": [
    "Below I have counted all of the combinations of values of `region` and `region_code`. It looks like some regions have multiple codes, but the region codes do not provide substantially more information than the region names."
   ]
  },
  {
   "cell_type": "code",
   "execution_count": null,
   "metadata": {
    "scrolled": true
   },
   "outputs": [],
   "source": [
    "lst = sorted(list(X_train['lga'].unique()))\n",
    "print(f'Our data contains information about waterpoints in the following {len(lst)} districts:\\n')\n",
    "print(lst)"
   ]
  },
  {
   "cell_type": "markdown",
   "metadata": {},
   "source": [
    "### Conclusions\n",
    "Both `region` and `lga` seem to be very clean features. I am inclined to drop `region_code` and `district_code` since they do not seem to clearly relate to regions and districts, respectively. Both, `ward` and `subvillage` have a huge number of classes, which will be computationally expensive to include in models. I will fill missing values in the `subvillage` feature with the string 'missing'."
   ]
  },
  {
   "cell_type": "markdown",
   "metadata": {},
   "source": [
    "### Future Work\n",
    "It might be possible to impute missing values in the `subvillage` feature by using geospatial data and K-nearest neighbors."
   ]
  }
 ],
 "metadata": {
  "kernelspec": {
   "display_name": "flatiron",
   "language": "python",
   "name": "flatiron"
  },
  "language_info": {
   "codemirror_mode": {
    "name": "ipython",
    "version": 3
   },
   "file_extension": ".py",
   "mimetype": "text/x-python",
   "name": "python",
   "nbconvert_exporter": "python",
   "pygments_lexer": "ipython3",
   "version": "3.6.9"
  }
 },
 "nbformat": 4,
 "nbformat_minor": 4
}
