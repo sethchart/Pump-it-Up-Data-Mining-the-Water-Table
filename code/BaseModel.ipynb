{
 "cells": [
  {
   "cell_type": "code",
   "execution_count": 1,
   "metadata": {},
   "outputs": [],
   "source": [
    "#Basics\n",
    "import pandas as pd\n",
    "import numpy as np\n",
    "\n",
    "#Plotting\n",
    "import matplotlib.pyplot as plt\n",
    "import seaborn as sns\n",
    "\n",
    "#Train Test Split\n",
    "from sklearn.model_selection import train_test_split\n",
    "\n",
    "# Preprocessing\n",
    "from sklearn.compose import ColumnTransformer\n",
    "from sklearn.preprocessing import OneHotEncoder\n",
    "from sklearn.preprocessing import StandardScaler\n",
    "\n",
    "# Classifiers\n",
    "from xgboost import XGBClassifier\n",
    "from sklearn.multiclass import OneVsRestClassifier\n",
    "\n",
    "#Pipeline\n",
    "from sklearn.pipeline import Pipeline\n",
    "\n",
    "#Grid Search\n",
    "from sklearn.model_selection import GridSearchCV\n",
    "\n",
    "# Model evaluation\n",
    "from sklearn.metrics import plot_confusion_matrix\n",
    "\n",
    "#Set Random State\n",
    "random_state = 42"
   ]
  },
  {
   "cell_type": "markdown",
   "metadata": {},
   "source": [
    "# Import Data"
   ]
  },
  {
   "cell_type": "code",
   "execution_count": 2,
   "metadata": {},
   "outputs": [],
   "source": [
    "features = pd.read_csv('../data/training_features.csv', index_col='id')\n",
    "targets = pd.read_csv('../data/training_labels.csv', index_col='id')\n",
    "df = features.join(targets, how='left')\n",
    "X = df.drop('status_group', axis=1)\n",
    "y = df['status_group']"
   ]
  },
  {
   "cell_type": "markdown",
   "metadata": {},
   "source": [
    "# Test Train Split"
   ]
  },
  {
   "cell_type": "code",
   "execution_count": 3,
   "metadata": {},
   "outputs": [],
   "source": [
    "X_train, X_test, y_train, y_test = train_test_split(X, y, test_size=0.1, random_state=random_state)"
   ]
  },
  {
   "cell_type": "markdown",
   "metadata": {},
   "source": [
    "# Classifying Variables"
   ]
  },
  {
   "cell_type": "code",
   "execution_count": 4,
   "metadata": {},
   "outputs": [],
   "source": [
    "# Variables\n",
    "gps = [\n",
    "    'latitude',\n",
    "    'longitude',\n",
    "    'gps_height'\n",
    "]\n",
    "\n",
    "region = [\n",
    "    'region',\n",
    "    'lga',\n",
    "    'ward'\n",
    "]\n",
    "\n",
    "water_table = [\n",
    "    'basin',\n",
    "    'quality_group',\n",
    "    'quantity',\n",
    "    'source_class'\n",
    "    \n",
    "]\n",
    "\n",
    "waterpoint_cat = [\n",
    "    'extraction_type_class',\n",
    "    'waterpoint_type_group',\n",
    "]\n",
    "\n",
    "waterpoint_num = [\n",
    "    'amount_tsh',\n",
    "    'population'\n",
    "]\n",
    "\n",
    "management = [\n",
    "    'management_group',\n",
    "    'management'\n",
    "]\n",
    "\n",
    "construction = ['construction_year']\n",
    "\n",
    "cat_vars = water_table + waterpoint_cat + management + region\n",
    "\n",
    "num_vars = gps + waterpoint_num + construction\n",
    "\n",
    "drop_vars = list(set(X.columns).difference(set(num_vars + cat_vars)))"
   ]
  },
  {
   "cell_type": "markdown",
   "metadata": {},
   "source": [
    "# Building Preprocessor"
   ]
  },
  {
   "cell_type": "code",
   "execution_count": 5,
   "metadata": {},
   "outputs": [],
   "source": [
    "preprocessor = ColumnTransformer(transformers=[\n",
    "            ('numericalPreprocessor', StandardScaler(), num_vars),\n",
    "            ('categoricalPreprocessor', OneHotEncoder(handle_unknown='ignore'), cat_vars),\n",
    "            ('dropProcessor', 'drop', drop_vars)\n",
    "])"
   ]
  },
  {
   "cell_type": "markdown",
   "metadata": {},
   "source": [
    "# Building Pipeline"
   ]
  },
  {
   "cell_type": "code",
   "execution_count": 6,
   "metadata": {},
   "outputs": [],
   "source": [
    "pipeline = Pipeline(\n",
    "    steps=[\n",
    "        ('preprocessor', preprocessor),\n",
    "        ('classifier', OneVsRestClassifier(estimator='passthrough'))\n",
    "    ]\n",
    ")"
   ]
  },
  {
   "cell_type": "markdown",
   "metadata": {},
   "source": [
    "# Building Parameter Grid"
   ]
  },
  {
   "cell_type": "code",
   "execution_count": 7,
   "metadata": {},
   "outputs": [],
   "source": [
    "parameter_grid = [\n",
    "    {\n",
    "        'classifier__estimator': [XGBClassifier()],\n",
    "        'classifier__estimator__max_depth': [13, 14, 15]\n",
    "    }\n",
    "]"
   ]
  },
  {
   "cell_type": "markdown",
   "metadata": {},
   "source": [
    "# Instantiate Grid Search"
   ]
  },
  {
   "cell_type": "code",
   "execution_count": 8,
   "metadata": {},
   "outputs": [],
   "source": [
    "grid_search = GridSearchCV(estimator=pipeline, param_grid=parameter_grid, scoring='accuracy', cv=5, verbose=2, n_jobs=-1)"
   ]
  },
  {
   "cell_type": "markdown",
   "metadata": {},
   "source": [
    "# Fit Grid Search"
   ]
  },
  {
   "cell_type": "code",
   "execution_count": 9,
   "metadata": {
    "scrolled": false
   },
   "outputs": [
    {
     "name": "stdout",
     "output_type": "stream",
     "text": [
      "Fitting 5 folds for each of 3 candidates, totalling 15 fits\n"
     ]
    },
    {
     "name": "stderr",
     "output_type": "stream",
     "text": [
      "[Parallel(n_jobs=-1)]: Using backend LokyBackend with 4 concurrent workers.\n",
      "[Parallel(n_jobs=-1)]: Done  15 out of  15 | elapsed: 10.7min finished\n"
     ]
    },
    {
     "data": {
      "text/plain": [
       "GridSearchCV(cv=5,\n",
       "             estimator=Pipeline(steps=[('preprocessor',\n",
       "                                        ColumnTransformer(transformers=[('numericalPreprocessor',\n",
       "                                                                         StandardScaler(),\n",
       "                                                                         ['latitude',\n",
       "                                                                          'longitude',\n",
       "                                                                          'gps_height',\n",
       "                                                                          'amount_tsh',\n",
       "                                                                          'population',\n",
       "                                                                          'construction_year']),\n",
       "                                                                        ('categoricalPreprocessor',\n",
       "                                                                         OneHotEncoder(handle_unknown='ignore'),\n",
       "                                                                         ['basin',\n",
       "                                                                          'quality_group',\n",
       "                                                                          'quantity',\n",
       "                                                                          'source_class',\n",
       "                                                                          'extraction_ty...\n",
       "                                                                          'waterpoint_type',\n",
       "                                                                          'permit',\n",
       "                                                                          'scheme_management',\n",
       "                                                                          'installer',\n",
       "                                                                          'water_quality',\n",
       "                                                                          'source_type',\n",
       "                                                                          'extraction_type',\n",
       "                                                                          'region_code',\n",
       "                                                                          'funder',\n",
       "                                                                          'recorded_by'])])),\n",
       "                                       ('classifier',\n",
       "                                        OneVsRestClassifier(estimator='passthrough'))]),\n",
       "             n_jobs=-1,\n",
       "             param_grid=[{'classifier__estimator': [XGBClassifier(max_depth=15)],\n",
       "                          'classifier__estimator__max_depth': [13, 14, 15]}],\n",
       "             scoring='accuracy', verbose=2)"
      ]
     },
     "execution_count": 9,
     "metadata": {},
     "output_type": "execute_result"
    }
   ],
   "source": [
    "grid_search.fit(X_train, y_train)"
   ]
  },
  {
   "cell_type": "markdown",
   "metadata": {},
   "source": [
    "# Return Best Training Accuracy Score from Grid Search"
   ]
  },
  {
   "cell_type": "code",
   "execution_count": 10,
   "metadata": {},
   "outputs": [
    {
     "data": {
      "text/plain": [
       "0.800748222970445"
      ]
     },
     "execution_count": 10,
     "metadata": {},
     "output_type": "execute_result"
    }
   ],
   "source": [
    "grid_search.best_score_"
   ]
  },
  {
   "cell_type": "code",
   "execution_count": 16,
   "metadata": {},
   "outputs": [],
   "source": [
    "# Review Grid Search Cross Validation Results"
   ]
  },
  {
   "cell_type": "code",
   "execution_count": 17,
   "metadata": {},
   "outputs": [
    {
     "data": {
      "text/html": [
       "<div>\n",
       "<style scoped>\n",
       "    .dataframe tbody tr th:only-of-type {\n",
       "        vertical-align: middle;\n",
       "    }\n",
       "\n",
       "    .dataframe tbody tr th {\n",
       "        vertical-align: top;\n",
       "    }\n",
       "\n",
       "    .dataframe thead th {\n",
       "        text-align: right;\n",
       "    }\n",
       "</style>\n",
       "<table border=\"1\" class=\"dataframe\">\n",
       "  <thead>\n",
       "    <tr style=\"text-align: right;\">\n",
       "      <th></th>\n",
       "      <th>mean_fit_time</th>\n",
       "      <th>std_fit_time</th>\n",
       "      <th>mean_score_time</th>\n",
       "      <th>std_score_time</th>\n",
       "      <th>param_classifier__estimator</th>\n",
       "      <th>param_classifier__estimator__max_depth</th>\n",
       "      <th>params</th>\n",
       "      <th>split0_test_score</th>\n",
       "      <th>split1_test_score</th>\n",
       "      <th>split2_test_score</th>\n",
       "      <th>split3_test_score</th>\n",
       "      <th>split4_test_score</th>\n",
       "      <th>mean_test_score</th>\n",
       "      <th>std_test_score</th>\n",
       "      <th>rank_test_score</th>\n",
       "    </tr>\n",
       "  </thead>\n",
       "  <tbody>\n",
       "    <tr>\n",
       "      <th>0</th>\n",
       "      <td>159.688357</td>\n",
       "      <td>1.347292</td>\n",
       "      <td>2.290646</td>\n",
       "      <td>0.032584</td>\n",
       "      <td>XGBClassifier(max_depth=15)</td>\n",
       "      <td>13</td>\n",
       "      <td>{'classifier__estimator': XGBClassifier(max_de...</td>\n",
       "      <td>0.791059</td>\n",
       "      <td>0.796857</td>\n",
       "      <td>0.801066</td>\n",
       "      <td>0.800973</td>\n",
       "      <td>0.793678</td>\n",
       "      <td>0.796727</td>\n",
       "      <td>0.003957</td>\n",
       "      <td>3</td>\n",
       "    </tr>\n",
       "    <tr>\n",
       "      <th>1</th>\n",
       "      <td>167.065236</td>\n",
       "      <td>5.797104</td>\n",
       "      <td>3.929056</td>\n",
       "      <td>1.297546</td>\n",
       "      <td>XGBClassifier(max_depth=15)</td>\n",
       "      <td>14</td>\n",
       "      <td>{'classifier__estimator': XGBClassifier(max_de...</td>\n",
       "      <td>0.793771</td>\n",
       "      <td>0.797138</td>\n",
       "      <td>0.801160</td>\n",
       "      <td>0.802095</td>\n",
       "      <td>0.796296</td>\n",
       "      <td>0.798092</td>\n",
       "      <td>0.003106</td>\n",
       "      <td>2</td>\n",
       "    </tr>\n",
       "    <tr>\n",
       "      <th>2</th>\n",
       "      <td>140.285704</td>\n",
       "      <td>22.841015</td>\n",
       "      <td>1.758261</td>\n",
       "      <td>0.513197</td>\n",
       "      <td>XGBClassifier(max_depth=15)</td>\n",
       "      <td>15</td>\n",
       "      <td>{'classifier__estimator': XGBClassifier(max_de...</td>\n",
       "      <td>0.794893</td>\n",
       "      <td>0.800599</td>\n",
       "      <td>0.803872</td>\n",
       "      <td>0.805556</td>\n",
       "      <td>0.798822</td>\n",
       "      <td>0.800748</td>\n",
       "      <td>0.003765</td>\n",
       "      <td>1</td>\n",
       "    </tr>\n",
       "  </tbody>\n",
       "</table>\n",
       "</div>"
      ],
      "text/plain": [
       "   mean_fit_time  std_fit_time  mean_score_time  std_score_time  \\\n",
       "0     159.688357      1.347292         2.290646        0.032584   \n",
       "1     167.065236      5.797104         3.929056        1.297546   \n",
       "2     140.285704     22.841015         1.758261        0.513197   \n",
       "\n",
       "   param_classifier__estimator param_classifier__estimator__max_depth  \\\n",
       "0  XGBClassifier(max_depth=15)                                     13   \n",
       "1  XGBClassifier(max_depth=15)                                     14   \n",
       "2  XGBClassifier(max_depth=15)                                     15   \n",
       "\n",
       "                                              params  split0_test_score  \\\n",
       "0  {'classifier__estimator': XGBClassifier(max_de...           0.791059   \n",
       "1  {'classifier__estimator': XGBClassifier(max_de...           0.793771   \n",
       "2  {'classifier__estimator': XGBClassifier(max_de...           0.794893   \n",
       "\n",
       "   split1_test_score  split2_test_score  split3_test_score  split4_test_score  \\\n",
       "0           0.796857           0.801066           0.800973           0.793678   \n",
       "1           0.797138           0.801160           0.802095           0.796296   \n",
       "2           0.800599           0.803872           0.805556           0.798822   \n",
       "\n",
       "   mean_test_score  std_test_score  rank_test_score  \n",
       "0         0.796727        0.003957                3  \n",
       "1         0.798092        0.003106                2  \n",
       "2         0.800748        0.003765                1  "
      ]
     },
     "execution_count": 17,
     "metadata": {},
     "output_type": "execute_result"
    }
   ],
   "source": [
    "pd.DataFrame(grid_search.cv_results_)"
   ]
  },
  {
   "cell_type": "code",
   "execution_count": 15,
   "metadata": {},
   "outputs": [
    {
     "data": {
      "text/plain": [
       "0.8035353535353535"
      ]
     },
     "execution_count": 15,
     "metadata": {},
     "output_type": "execute_result"
    }
   ],
   "source": [
    "grid_search.score(X_test, y_test)"
   ]
  },
  {
   "cell_type": "markdown",
   "metadata": {},
   "source": [
    "# Base Model"
   ]
  },
  {
   "cell_type": "code",
   "execution_count": 18,
   "metadata": {},
   "outputs": [],
   "source": [
    "base_model = grid_search.best_estimator_"
   ]
  },
  {
   "cell_type": "markdown",
   "metadata": {},
   "source": [
    "# Import Validation Data"
   ]
  },
  {
   "cell_type": "code",
   "execution_count": 24,
   "metadata": {},
   "outputs": [],
   "source": [
    "X_validate = pd.read_csv('../data/testing_features.csv', index_col='id')"
   ]
  },
  {
   "cell_type": "code",
   "execution_count": 25,
   "metadata": {},
   "outputs": [],
   "source": [
    "y_validate = base_model.predict(X_validate)"
   ]
  },
  {
   "cell_type": "code",
   "execution_count": 30,
   "metadata": {},
   "outputs": [],
   "source": [
    "df_predictions = pd.DataFrame(y_validate, index=X_validate.index, columns=['status_group'])"
   ]
  },
  {
   "cell_type": "code",
   "execution_count": 31,
   "metadata": {},
   "outputs": [
    {
     "data": {
      "text/html": [
       "<div>\n",
       "<style scoped>\n",
       "    .dataframe tbody tr th:only-of-type {\n",
       "        vertical-align: middle;\n",
       "    }\n",
       "\n",
       "    .dataframe tbody tr th {\n",
       "        vertical-align: top;\n",
       "    }\n",
       "\n",
       "    .dataframe thead th {\n",
       "        text-align: right;\n",
       "    }\n",
       "</style>\n",
       "<table border=\"1\" class=\"dataframe\">\n",
       "  <thead>\n",
       "    <tr style=\"text-align: right;\">\n",
       "      <th></th>\n",
       "      <th>status_group</th>\n",
       "    </tr>\n",
       "    <tr>\n",
       "      <th>id</th>\n",
       "      <th></th>\n",
       "    </tr>\n",
       "  </thead>\n",
       "  <tbody>\n",
       "    <tr>\n",
       "      <th>50785</th>\n",
       "      <td>functional</td>\n",
       "    </tr>\n",
       "    <tr>\n",
       "      <th>51630</th>\n",
       "      <td>functional</td>\n",
       "    </tr>\n",
       "    <tr>\n",
       "      <th>17168</th>\n",
       "      <td>functional</td>\n",
       "    </tr>\n",
       "    <tr>\n",
       "      <th>45559</th>\n",
       "      <td>non functional</td>\n",
       "    </tr>\n",
       "    <tr>\n",
       "      <th>49871</th>\n",
       "      <td>functional</td>\n",
       "    </tr>\n",
       "  </tbody>\n",
       "</table>\n",
       "</div>"
      ],
      "text/plain": [
       "         status_group\n",
       "id                   \n",
       "50785      functional\n",
       "51630      functional\n",
       "17168      functional\n",
       "45559  non functional\n",
       "49871      functional"
      ]
     },
     "execution_count": 31,
     "metadata": {},
     "output_type": "execute_result"
    }
   ],
   "source": [
    "df_predictions.head()"
   ]
  },
  {
   "cell_type": "code",
   "execution_count": 32,
   "metadata": {},
   "outputs": [],
   "source": [
    "df_predictions.to_csv('../predictions/base_model.csv')"
   ]
  }
 ],
 "metadata": {
  "kernelspec": {
   "display_name": "flatiron",
   "language": "python",
   "name": "flatiron"
  },
  "language_info": {
   "codemirror_mode": {
    "name": "ipython",
    "version": 3
   },
   "file_extension": ".py",
   "mimetype": "text/x-python",
   "name": "python",
   "nbconvert_exporter": "python",
   "pygments_lexer": "ipython3",
   "version": "3.6.9"
  }
 },
 "nbformat": 4,
 "nbformat_minor": 4
}
