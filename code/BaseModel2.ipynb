{
 "cells": [
  {
   "cell_type": "code",
   "execution_count": 20,
   "metadata": {},
   "outputs": [],
   "source": [
    "#Basics\n",
    "import pandas as pd\n",
    "import numpy as np\n",
    "\n",
    "#Plotting\n",
    "import matplotlib.pyplot as plt\n",
    "import seaborn as sns\n",
    "\n",
    "#Train Test Split\n",
    "from sklearn.model_selection import train_test_split\n",
    "\n",
    "# Preprocessing\n",
    "from sklearn.compose import ColumnTransformer\n",
    "from sklearn.preprocessing import OneHotEncoder, StandardScaler\n",
    "\n",
    "# Feature Selection\n",
    "from sklearn.feature_selection import VarianceThreshold\n",
    "\n",
    "# Classifiers\n",
    "from xgboost import XGBClassifier\n",
    "from sklearn.ensemble import RandomForestClassifier \n",
    "from sklearn.multiclass import OneVsRestClassifier\n",
    "\n",
    "#Pipeline\n",
    "from sklearn.pipeline import Pipeline\n",
    "\n",
    "#Grid Search\n",
    "from sklearn.model_selection import GridSearchCV\n",
    "\n",
    "# Model evaluation\n",
    "from sklearn.metrics import plot_confusion_matrix, accuracy_score\n",
    "\n",
    "#Set Random State\n",
    "random_state = 42"
   ]
  },
  {
   "cell_type": "markdown",
   "metadata": {},
   "source": [
    "# Import Data"
   ]
  },
  {
   "cell_type": "code",
   "execution_count": 3,
   "metadata": {},
   "outputs": [],
   "source": [
    "features = pd.read_csv('../data/training_features.csv', index_col='id')\n",
    "targets = pd.read_csv('../data/training_labels.csv', index_col='id')\n",
    "df = features.join(targets, how='left')\n",
    "X = df.drop('status_group', axis=1)\n",
    "y = df['status_group']"
   ]
  },
  {
   "cell_type": "markdown",
   "metadata": {},
   "source": [
    "# Test Train Split"
   ]
  },
  {
   "cell_type": "code",
   "execution_count": 4,
   "metadata": {},
   "outputs": [],
   "source": [
    "X_train, X_test, y_train, y_test = train_test_split(X, y, test_size=0.1, random_state=random_state)"
   ]
  },
  {
   "cell_type": "markdown",
   "metadata": {},
   "source": [
    "# Classifying Variables"
   ]
  },
  {
   "cell_type": "code",
   "execution_count": 5,
   "metadata": {},
   "outputs": [],
   "source": [
    "# Variables\n",
    "gps = [\n",
    "    'latitude',\n",
    "    'longitude',\n",
    "    'gps_height'\n",
    "]\n",
    "\n",
    "region = [\n",
    "    'region',\n",
    "    'lga',\n",
    "    'ward'\n",
    "]\n",
    "\n",
    "water_table = [\n",
    "    'basin',\n",
    "    'quality_group',\n",
    "    'quantity',\n",
    "    'source_class'\n",
    "    \n",
    "]\n",
    "\n",
    "waterpoint_cat = [\n",
    "    'extraction_type_class',\n",
    "    'waterpoint_type_group',\n",
    "]\n",
    "\n",
    "waterpoint_num = [\n",
    "    'amount_tsh',\n",
    "    'population'\n",
    "]\n",
    "\n",
    "management = [\n",
    "    'management_group',\n",
    "    'management'\n",
    "]\n",
    "\n",
    "construction = ['construction_year']\n",
    "\n",
    "cat_vars = water_table + waterpoint_cat + management + region\n",
    "\n",
    "num_vars = gps + waterpoint_num + construction\n",
    "\n",
    "drop_vars = list(set(X.columns).difference(set(num_vars + cat_vars)))"
   ]
  },
  {
   "cell_type": "markdown",
   "metadata": {},
   "source": [
    "# Building Preprocessor"
   ]
  },
  {
   "cell_type": "code",
   "execution_count": 6,
   "metadata": {},
   "outputs": [],
   "source": [
    "preprocessor = ColumnTransformer(transformers=[\n",
    "            ('numericalPreprocessor', StandardScaler(), num_vars),\n",
    "            ('categoricalPreprocessor', OneHotEncoder(handle_unknown='ignore'), cat_vars),\n",
    "            ('dropProcessor', 'drop', drop_vars)\n",
    "])"
   ]
  },
  {
   "cell_type": "markdown",
   "metadata": {},
   "source": [
    "# Building Pipeline"
   ]
  },
  {
   "cell_type": "code",
   "execution_count": 33,
   "metadata": {},
   "outputs": [],
   "source": [
    "pipeline = Pipeline(\n",
    "    steps=[\n",
    "        ('preprocessor', preprocessor),\n",
    "        ('featureSelector', VarianceThreshold()),\n",
    "        ('classifier', OneVsRestClassifier(estimator=XGBClassifier(max_depth=14)))\n",
    "    ]\n",
    ")"
   ]
  },
  {
   "cell_type": "markdown",
   "metadata": {},
   "source": [
    "# Building Parameter Grid"
   ]
  },
  {
   "cell_type": "code",
   "execution_count": 34,
   "metadata": {},
   "outputs": [],
   "source": [
    "parameter_grid = [\n",
    "    {\n",
    "        'featureSelector__threshold': [0.8*0.2, 0.85*0.15, 0.9*0.1]\n",
    "    }\n",
    "]"
   ]
  },
  {
   "cell_type": "markdown",
   "metadata": {},
   "source": [
    "# Instantiate Grid Search"
   ]
  },
  {
   "cell_type": "code",
   "execution_count": 35,
   "metadata": {},
   "outputs": [],
   "source": [
    "grid_search = GridSearchCV(estimator=pipeline, \n",
    "                           param_grid=parameter_grid, \n",
    "                           scoring='accuracy', \n",
    "                           cv=5, \n",
    "                           verbose=2, \n",
    "                           n_jobs=-1\n",
    "                          )"
   ]
  },
  {
   "cell_type": "markdown",
   "metadata": {},
   "source": [
    "# Fit Grid Search"
   ]
  },
  {
   "cell_type": "code",
   "execution_count": 36,
   "metadata": {
    "scrolled": false
   },
   "outputs": [
    {
     "name": "stdout",
     "output_type": "stream",
     "text": [
      "Fitting 5 folds for each of 3 candidates, totalling 15 fits\n"
     ]
    },
    {
     "name": "stderr",
     "output_type": "stream",
     "text": [
      "[Parallel(n_jobs=-1)]: Using backend LokyBackend with 4 concurrent workers.\n",
      "[Parallel(n_jobs=-1)]: Done  15 out of  15 | elapsed:  7.8min finished\n"
     ]
    },
    {
     "data": {
      "text/plain": [
       "GridSearchCV(cv=5,\n",
       "             estimator=Pipeline(steps=[('preprocessor',\n",
       "                                        ColumnTransformer(transformers=[('numericalPreprocessor',\n",
       "                                                                         StandardScaler(),\n",
       "                                                                         ['latitude',\n",
       "                                                                          'longitude',\n",
       "                                                                          'gps_height',\n",
       "                                                                          'amount_tsh',\n",
       "                                                                          'population',\n",
       "                                                                          'construction_year']),\n",
       "                                                                        ('categoricalPreprocessor',\n",
       "                                                                         OneHotEncoder(handle_unknown='ignore'),\n",
       "                                                                         ['basin',\n",
       "                                                                          'quality_group',\n",
       "                                                                          'quantity',\n",
       "                                                                          'source_class',\n",
       "                                                                          'extraction_ty...\n",
       "                                                                          'scheme_name',\n",
       "                                                                          'quantity_group',\n",
       "                                                                          'waterpoint_type',\n",
       "                                                                          'installer',\n",
       "                                                                          'wpt_name',\n",
       "                                                                          'scheme_management',\n",
       "                                                                          'region_code'])])),\n",
       "                                       ('featureSelector', VarianceThreshold()),\n",
       "                                       ('classifier',\n",
       "                                        OneVsRestClassifier(estimator=XGBClassifier(max_depth=14)))]),\n",
       "             n_jobs=-1,\n",
       "             param_grid=[{'featureSelector__threshold': [0.16000000000000003,\n",
       "                                                         0.1275,\n",
       "                                                         0.09000000000000001]}],\n",
       "             scoring='accuracy', verbose=2)"
      ]
     },
     "execution_count": 36,
     "metadata": {},
     "output_type": "execute_result"
    }
   ],
   "source": [
    "grid_search.fit(X_train, y_train)"
   ]
  },
  {
   "cell_type": "markdown",
   "metadata": {},
   "source": [
    "# Return Best Training Accuracy Score from Grid Search"
   ]
  },
  {
   "cell_type": "code",
   "execution_count": 37,
   "metadata": {},
   "outputs": [
    {
     "data": {
      "text/plain": [
       "0.7992517770295547"
      ]
     },
     "execution_count": 37,
     "metadata": {},
     "output_type": "execute_result"
    }
   ],
   "source": [
    "grid_search.best_score_"
   ]
  },
  {
   "cell_type": "code",
   "execution_count": 38,
   "metadata": {},
   "outputs": [],
   "source": [
    "# Review Grid Search Cross Validation Results"
   ]
  },
  {
   "cell_type": "code",
   "execution_count": 39,
   "metadata": {},
   "outputs": [
    {
     "data": {
      "text/html": [
       "<div>\n",
       "<style scoped>\n",
       "    .dataframe tbody tr th:only-of-type {\n",
       "        vertical-align: middle;\n",
       "    }\n",
       "\n",
       "    .dataframe tbody tr th {\n",
       "        vertical-align: top;\n",
       "    }\n",
       "\n",
       "    .dataframe thead th {\n",
       "        text-align: right;\n",
       "    }\n",
       "</style>\n",
       "<table border=\"1\" class=\"dataframe\">\n",
       "  <thead>\n",
       "    <tr style=\"text-align: right;\">\n",
       "      <th></th>\n",
       "      <th>mean_fit_time</th>\n",
       "      <th>std_fit_time</th>\n",
       "      <th>mean_score_time</th>\n",
       "      <th>std_score_time</th>\n",
       "      <th>param_featureSelector__threshold</th>\n",
       "      <th>params</th>\n",
       "      <th>split0_test_score</th>\n",
       "      <th>split1_test_score</th>\n",
       "      <th>split2_test_score</th>\n",
       "      <th>split3_test_score</th>\n",
       "      <th>split4_test_score</th>\n",
       "      <th>mean_test_score</th>\n",
       "      <th>std_test_score</th>\n",
       "      <th>rank_test_score</th>\n",
       "    </tr>\n",
       "  </thead>\n",
       "  <tbody>\n",
       "    <tr>\n",
       "      <th>0</th>\n",
       "      <td>113.212041</td>\n",
       "      <td>1.178849</td>\n",
       "      <td>2.794629</td>\n",
       "      <td>0.288026</td>\n",
       "      <td>0.16</td>\n",
       "      <td>{'featureSelector__threshold': 0.1600000000000...</td>\n",
       "      <td>0.786663</td>\n",
       "      <td>0.792368</td>\n",
       "      <td>0.788440</td>\n",
       "      <td>0.791152</td>\n",
       "      <td>0.789375</td>\n",
       "      <td>0.789600</td>\n",
       "      <td>0.002005</td>\n",
       "      <td>3</td>\n",
       "    </tr>\n",
       "    <tr>\n",
       "      <th>1</th>\n",
       "      <td>118.679739</td>\n",
       "      <td>3.153017</td>\n",
       "      <td>2.521652</td>\n",
       "      <td>0.176669</td>\n",
       "      <td>0.1275</td>\n",
       "      <td>{'featureSelector__threshold': 0.1275}</td>\n",
       "      <td>0.785728</td>\n",
       "      <td>0.792742</td>\n",
       "      <td>0.789001</td>\n",
       "      <td>0.791900</td>\n",
       "      <td>0.789749</td>\n",
       "      <td>0.789824</td>\n",
       "      <td>0.002461</td>\n",
       "      <td>2</td>\n",
       "    </tr>\n",
       "    <tr>\n",
       "      <th>2</th>\n",
       "      <td>115.555031</td>\n",
       "      <td>16.009939</td>\n",
       "      <td>1.948438</td>\n",
       "      <td>0.496872</td>\n",
       "      <td>0.09</td>\n",
       "      <td>{'featureSelector__threshold': 0.0900000000000...</td>\n",
       "      <td>0.795642</td>\n",
       "      <td>0.802282</td>\n",
       "      <td>0.798447</td>\n",
       "      <td>0.801814</td>\n",
       "      <td>0.798073</td>\n",
       "      <td>0.799252</td>\n",
       "      <td>0.002483</td>\n",
       "      <td>1</td>\n",
       "    </tr>\n",
       "  </tbody>\n",
       "</table>\n",
       "</div>"
      ],
      "text/plain": [
       "   mean_fit_time  std_fit_time  mean_score_time  std_score_time  \\\n",
       "0     113.212041      1.178849         2.794629        0.288026   \n",
       "1     118.679739      3.153017         2.521652        0.176669   \n",
       "2     115.555031     16.009939         1.948438        0.496872   \n",
       "\n",
       "  param_featureSelector__threshold  \\\n",
       "0                             0.16   \n",
       "1                           0.1275   \n",
       "2                             0.09   \n",
       "\n",
       "                                              params  split0_test_score  \\\n",
       "0  {'featureSelector__threshold': 0.1600000000000...           0.786663   \n",
       "1             {'featureSelector__threshold': 0.1275}           0.785728   \n",
       "2  {'featureSelector__threshold': 0.0900000000000...           0.795642   \n",
       "\n",
       "   split1_test_score  split2_test_score  split3_test_score  split4_test_score  \\\n",
       "0           0.792368           0.788440           0.791152           0.789375   \n",
       "1           0.792742           0.789001           0.791900           0.789749   \n",
       "2           0.802282           0.798447           0.801814           0.798073   \n",
       "\n",
       "   mean_test_score  std_test_score  rank_test_score  \n",
       "0         0.789600        0.002005                3  \n",
       "1         0.789824        0.002461                2  \n",
       "2         0.799252        0.002483                1  "
      ]
     },
     "execution_count": 39,
     "metadata": {},
     "output_type": "execute_result"
    }
   ],
   "source": [
    "pd.DataFrame(grid_search.cv_results_)"
   ]
  },
  {
   "cell_type": "code",
   "execution_count": 40,
   "metadata": {},
   "outputs": [
    {
     "data": {
      "text/plain": [
       "0.8067340067340067"
      ]
     },
     "execution_count": 40,
     "metadata": {},
     "output_type": "execute_result"
    }
   ],
   "source": [
    "grid_search.score(X_test, y_test)"
   ]
  },
  {
   "cell_type": "markdown",
   "metadata": {},
   "source": [
    "# Base Model"
   ]
  },
  {
   "cell_type": "code",
   "execution_count": 41,
   "metadata": {},
   "outputs": [],
   "source": [
    "base_model = grid_search.best_estimator_"
   ]
  },
  {
   "cell_type": "markdown",
   "metadata": {},
   "source": [
    "# Import Validation Data"
   ]
  },
  {
   "cell_type": "code",
   "execution_count": 42,
   "metadata": {},
   "outputs": [],
   "source": [
    "X_validate = pd.read_csv('../data/testing_features.csv', index_col='id')"
   ]
  },
  {
   "cell_type": "code",
   "execution_count": 43,
   "metadata": {},
   "outputs": [],
   "source": [
    "y_validate = base_model.predict(X_validate)"
   ]
  },
  {
   "cell_type": "code",
   "execution_count": 44,
   "metadata": {},
   "outputs": [],
   "source": [
    "df_predictions = pd.DataFrame(y_validate, index=X_validate.index, columns=['status_group'])"
   ]
  },
  {
   "cell_type": "code",
   "execution_count": 45,
   "metadata": {},
   "outputs": [
    {
     "data": {
      "text/html": [
       "<div>\n",
       "<style scoped>\n",
       "    .dataframe tbody tr th:only-of-type {\n",
       "        vertical-align: middle;\n",
       "    }\n",
       "\n",
       "    .dataframe tbody tr th {\n",
       "        vertical-align: top;\n",
       "    }\n",
       "\n",
       "    .dataframe thead th {\n",
       "        text-align: right;\n",
       "    }\n",
       "</style>\n",
       "<table border=\"1\" class=\"dataframe\">\n",
       "  <thead>\n",
       "    <tr style=\"text-align: right;\">\n",
       "      <th></th>\n",
       "      <th>status_group</th>\n",
       "    </tr>\n",
       "    <tr>\n",
       "      <th>id</th>\n",
       "      <th></th>\n",
       "    </tr>\n",
       "  </thead>\n",
       "  <tbody>\n",
       "    <tr>\n",
       "      <th>50785</th>\n",
       "      <td>functional</td>\n",
       "    </tr>\n",
       "    <tr>\n",
       "      <th>51630</th>\n",
       "      <td>functional</td>\n",
       "    </tr>\n",
       "    <tr>\n",
       "      <th>17168</th>\n",
       "      <td>functional</td>\n",
       "    </tr>\n",
       "    <tr>\n",
       "      <th>45559</th>\n",
       "      <td>non functional</td>\n",
       "    </tr>\n",
       "    <tr>\n",
       "      <th>49871</th>\n",
       "      <td>functional</td>\n",
       "    </tr>\n",
       "  </tbody>\n",
       "</table>\n",
       "</div>"
      ],
      "text/plain": [
       "         status_group\n",
       "id                   \n",
       "50785      functional\n",
       "51630      functional\n",
       "17168      functional\n",
       "45559  non functional\n",
       "49871      functional"
      ]
     },
     "execution_count": 45,
     "metadata": {},
     "output_type": "execute_result"
    }
   ],
   "source": [
    "df_predictions.head()"
   ]
  },
  {
   "cell_type": "code",
   "execution_count": 46,
   "metadata": {},
   "outputs": [],
   "source": [
    "df_predictions.to_csv('../predictions/base_model2.csv')"
   ]
  },
  {
   "cell_type": "code",
   "execution_count": null,
   "metadata": {},
   "outputs": [],
   "source": []
  }
 ],
 "metadata": {
  "kernelspec": {
   "display_name": "flatiron",
   "language": "python",
   "name": "flatiron"
  },
  "language_info": {
   "codemirror_mode": {
    "name": "ipython",
    "version": 3
   },
   "file_extension": ".py",
   "mimetype": "text/x-python",
   "name": "python",
   "nbconvert_exporter": "python",
   "pygments_lexer": "ipython3",
   "version": "3.6.9"
  }
 },
 "nbformat": 4,
 "nbformat_minor": 4
}
