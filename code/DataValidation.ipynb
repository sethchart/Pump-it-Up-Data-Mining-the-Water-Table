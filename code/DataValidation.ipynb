{
 "cells": [
  {
   "cell_type": "markdown",
   "metadata": {},
   "source": [
    "# Data validation\n",
    "In this notebook we investigate data completeness and correctness. "
   ]
  },
  {
   "cell_type": "markdown",
   "metadata": {},
   "source": [
    "## Inspecting the data\n",
    "Below we import the training data and produce some preliminary summaries."
   ]
  },
  {
   "cell_type": "code",
   "execution_count": 2,
   "metadata": {},
   "outputs": [],
   "source": [
    "import pandas as pd\n",
    "import numpy as np\n",
    "import matplotlib.pyplot as plt\n",
    "import seaborn as sns"
   ]
  },
  {
   "cell_type": "code",
   "execution_count": 3,
   "metadata": {
    "scrolled": false
   },
   "outputs": [
    {
     "data": {
      "text/html": [
       "<div>\n",
       "<style scoped>\n",
       "    .dataframe tbody tr th:only-of-type {\n",
       "        vertical-align: middle;\n",
       "    }\n",
       "\n",
       "    .dataframe tbody tr th {\n",
       "        vertical-align: top;\n",
       "    }\n",
       "\n",
       "    .dataframe thead th {\n",
       "        text-align: right;\n",
       "    }\n",
       "</style>\n",
       "<table border=\"1\" class=\"dataframe\">\n",
       "  <thead>\n",
       "    <tr style=\"text-align: right;\">\n",
       "      <th></th>\n",
       "      <th>amount_tsh</th>\n",
       "      <th>date_recorded</th>\n",
       "      <th>funder</th>\n",
       "      <th>gps_height</th>\n",
       "      <th>installer</th>\n",
       "      <th>longitude</th>\n",
       "      <th>latitude</th>\n",
       "      <th>wpt_name</th>\n",
       "      <th>num_private</th>\n",
       "      <th>basin</th>\n",
       "      <th>...</th>\n",
       "      <th>water_quality</th>\n",
       "      <th>quality_group</th>\n",
       "      <th>quantity</th>\n",
       "      <th>quantity_group</th>\n",
       "      <th>source</th>\n",
       "      <th>source_type</th>\n",
       "      <th>source_class</th>\n",
       "      <th>waterpoint_type</th>\n",
       "      <th>waterpoint_type_group</th>\n",
       "      <th>status_group</th>\n",
       "    </tr>\n",
       "    <tr>\n",
       "      <th>id</th>\n",
       "      <th></th>\n",
       "      <th></th>\n",
       "      <th></th>\n",
       "      <th></th>\n",
       "      <th></th>\n",
       "      <th></th>\n",
       "      <th></th>\n",
       "      <th></th>\n",
       "      <th></th>\n",
       "      <th></th>\n",
       "      <th></th>\n",
       "      <th></th>\n",
       "      <th></th>\n",
       "      <th></th>\n",
       "      <th></th>\n",
       "      <th></th>\n",
       "      <th></th>\n",
       "      <th></th>\n",
       "      <th></th>\n",
       "      <th></th>\n",
       "      <th></th>\n",
       "    </tr>\n",
       "  </thead>\n",
       "  <tbody>\n",
       "    <tr>\n",
       "      <th>69572</th>\n",
       "      <td>6000.0</td>\n",
       "      <td>2011-03-14</td>\n",
       "      <td>Roman</td>\n",
       "      <td>1390</td>\n",
       "      <td>Roman</td>\n",
       "      <td>34.938093</td>\n",
       "      <td>-9.856322</td>\n",
       "      <td>none</td>\n",
       "      <td>0</td>\n",
       "      <td>Lake Nyasa</td>\n",
       "      <td>...</td>\n",
       "      <td>soft</td>\n",
       "      <td>good</td>\n",
       "      <td>enough</td>\n",
       "      <td>enough</td>\n",
       "      <td>spring</td>\n",
       "      <td>spring</td>\n",
       "      <td>groundwater</td>\n",
       "      <td>communal standpipe</td>\n",
       "      <td>communal standpipe</td>\n",
       "      <td>functional</td>\n",
       "    </tr>\n",
       "    <tr>\n",
       "      <th>8776</th>\n",
       "      <td>0.0</td>\n",
       "      <td>2013-03-06</td>\n",
       "      <td>Grumeti</td>\n",
       "      <td>1399</td>\n",
       "      <td>GRUMETI</td>\n",
       "      <td>34.698766</td>\n",
       "      <td>-2.147466</td>\n",
       "      <td>Zahanati</td>\n",
       "      <td>0</td>\n",
       "      <td>Lake Victoria</td>\n",
       "      <td>...</td>\n",
       "      <td>soft</td>\n",
       "      <td>good</td>\n",
       "      <td>insufficient</td>\n",
       "      <td>insufficient</td>\n",
       "      <td>rainwater harvesting</td>\n",
       "      <td>rainwater harvesting</td>\n",
       "      <td>surface</td>\n",
       "      <td>communal standpipe</td>\n",
       "      <td>communal standpipe</td>\n",
       "      <td>functional</td>\n",
       "    </tr>\n",
       "    <tr>\n",
       "      <th>34310</th>\n",
       "      <td>25.0</td>\n",
       "      <td>2013-02-25</td>\n",
       "      <td>Lottery Club</td>\n",
       "      <td>686</td>\n",
       "      <td>World vision</td>\n",
       "      <td>37.460664</td>\n",
       "      <td>-3.821329</td>\n",
       "      <td>Kwa Mahundi</td>\n",
       "      <td>0</td>\n",
       "      <td>Pangani</td>\n",
       "      <td>...</td>\n",
       "      <td>soft</td>\n",
       "      <td>good</td>\n",
       "      <td>enough</td>\n",
       "      <td>enough</td>\n",
       "      <td>dam</td>\n",
       "      <td>dam</td>\n",
       "      <td>surface</td>\n",
       "      <td>communal standpipe multiple</td>\n",
       "      <td>communal standpipe</td>\n",
       "      <td>functional</td>\n",
       "    </tr>\n",
       "    <tr>\n",
       "      <th>67743</th>\n",
       "      <td>0.0</td>\n",
       "      <td>2013-01-28</td>\n",
       "      <td>Unicef</td>\n",
       "      <td>263</td>\n",
       "      <td>UNICEF</td>\n",
       "      <td>38.486161</td>\n",
       "      <td>-11.155298</td>\n",
       "      <td>Zahanati Ya Nanyumbu</td>\n",
       "      <td>0</td>\n",
       "      <td>Ruvuma / Southern Coast</td>\n",
       "      <td>...</td>\n",
       "      <td>soft</td>\n",
       "      <td>good</td>\n",
       "      <td>dry</td>\n",
       "      <td>dry</td>\n",
       "      <td>machine dbh</td>\n",
       "      <td>borehole</td>\n",
       "      <td>groundwater</td>\n",
       "      <td>communal standpipe multiple</td>\n",
       "      <td>communal standpipe</td>\n",
       "      <td>non functional</td>\n",
       "    </tr>\n",
       "    <tr>\n",
       "      <th>19728</th>\n",
       "      <td>0.0</td>\n",
       "      <td>2011-07-13</td>\n",
       "      <td>Action In A</td>\n",
       "      <td>0</td>\n",
       "      <td>Artisan</td>\n",
       "      <td>31.130847</td>\n",
       "      <td>-1.825359</td>\n",
       "      <td>Shuleni</td>\n",
       "      <td>0</td>\n",
       "      <td>Lake Victoria</td>\n",
       "      <td>...</td>\n",
       "      <td>soft</td>\n",
       "      <td>good</td>\n",
       "      <td>seasonal</td>\n",
       "      <td>seasonal</td>\n",
       "      <td>rainwater harvesting</td>\n",
       "      <td>rainwater harvesting</td>\n",
       "      <td>surface</td>\n",
       "      <td>communal standpipe</td>\n",
       "      <td>communal standpipe</td>\n",
       "      <td>functional</td>\n",
       "    </tr>\n",
       "  </tbody>\n",
       "</table>\n",
       "<p>5 rows × 40 columns</p>\n",
       "</div>"
      ],
      "text/plain": [
       "       amount_tsh date_recorded        funder  gps_height     installer  \\\n",
       "id                                                                        \n",
       "69572      6000.0    2011-03-14         Roman        1390         Roman   \n",
       "8776          0.0    2013-03-06       Grumeti        1399       GRUMETI   \n",
       "34310        25.0    2013-02-25  Lottery Club         686  World vision   \n",
       "67743         0.0    2013-01-28        Unicef         263        UNICEF   \n",
       "19728         0.0    2011-07-13   Action In A           0       Artisan   \n",
       "\n",
       "       longitude   latitude              wpt_name  num_private  \\\n",
       "id                                                               \n",
       "69572  34.938093  -9.856322                  none            0   \n",
       "8776   34.698766  -2.147466              Zahanati            0   \n",
       "34310  37.460664  -3.821329           Kwa Mahundi            0   \n",
       "67743  38.486161 -11.155298  Zahanati Ya Nanyumbu            0   \n",
       "19728  31.130847  -1.825359               Shuleni            0   \n",
       "\n",
       "                         basin  ... water_quality quality_group      quantity  \\\n",
       "id                              ...                                             \n",
       "69572               Lake Nyasa  ...          soft          good        enough   \n",
       "8776             Lake Victoria  ...          soft          good  insufficient   \n",
       "34310                  Pangani  ...          soft          good        enough   \n",
       "67743  Ruvuma / Southern Coast  ...          soft          good           dry   \n",
       "19728            Lake Victoria  ...          soft          good      seasonal   \n",
       "\n",
       "       quantity_group                source           source_type  \\\n",
       "id                                                                  \n",
       "69572          enough                spring                spring   \n",
       "8776     insufficient  rainwater harvesting  rainwater harvesting   \n",
       "34310          enough                   dam                   dam   \n",
       "67743             dry           machine dbh              borehole   \n",
       "19728        seasonal  rainwater harvesting  rainwater harvesting   \n",
       "\n",
       "       source_class              waterpoint_type waterpoint_type_group  \\\n",
       "id                                                                       \n",
       "69572   groundwater           communal standpipe    communal standpipe   \n",
       "8776        surface           communal standpipe    communal standpipe   \n",
       "34310       surface  communal standpipe multiple    communal standpipe   \n",
       "67743   groundwater  communal standpipe multiple    communal standpipe   \n",
       "19728       surface           communal standpipe    communal standpipe   \n",
       "\n",
       "         status_group  \n",
       "id                     \n",
       "69572      functional  \n",
       "8776       functional  \n",
       "34310      functional  \n",
       "67743  non functional  \n",
       "19728      functional  \n",
       "\n",
       "[5 rows x 40 columns]"
      ]
     },
     "execution_count": 3,
     "metadata": {},
     "output_type": "execute_result"
    }
   ],
   "source": [
    "features = pd.read_csv('../data/training_features.csv', index_col='id')\n",
    "targets = pd.read_csv('../data/training_labels.csv', index_col='id')\n",
    "df = features.join(targets, how='left')\n",
    "df.head()"
   ]
  },
  {
   "cell_type": "code",
   "execution_count": 4,
   "metadata": {},
   "outputs": [
    {
     "name": "stdout",
     "output_type": "stream",
     "text": [
      "<class 'pandas.core.frame.DataFrame'>\n",
      "Int64Index: 59400 entries, 69572 to 26348\n",
      "Data columns (total 40 columns):\n",
      " #   Column                 Non-Null Count  Dtype  \n",
      "---  ------                 --------------  -----  \n",
      " 0   amount_tsh             59400 non-null  float64\n",
      " 1   date_recorded          59400 non-null  object \n",
      " 2   funder                 55765 non-null  object \n",
      " 3   gps_height             59400 non-null  int64  \n",
      " 4   installer              55745 non-null  object \n",
      " 5   longitude              59400 non-null  float64\n",
      " 6   latitude               59400 non-null  float64\n",
      " 7   wpt_name               59400 non-null  object \n",
      " 8   num_private            59400 non-null  int64  \n",
      " 9   basin                  59400 non-null  object \n",
      " 10  subvillage             59029 non-null  object \n",
      " 11  region                 59400 non-null  object \n",
      " 12  region_code            59400 non-null  int64  \n",
      " 13  district_code          59400 non-null  int64  \n",
      " 14  lga                    59400 non-null  object \n",
      " 15  ward                   59400 non-null  object \n",
      " 16  population             59400 non-null  int64  \n",
      " 17  public_meeting         56066 non-null  object \n",
      " 18  recorded_by            59400 non-null  object \n",
      " 19  scheme_management      55523 non-null  object \n",
      " 20  scheme_name            31234 non-null  object \n",
      " 21  permit                 56344 non-null  object \n",
      " 22  construction_year      59400 non-null  int64  \n",
      " 23  extraction_type        59400 non-null  object \n",
      " 24  extraction_type_group  59400 non-null  object \n",
      " 25  extraction_type_class  59400 non-null  object \n",
      " 26  management             59400 non-null  object \n",
      " 27  management_group       59400 non-null  object \n",
      " 28  payment                59400 non-null  object \n",
      " 29  payment_type           59400 non-null  object \n",
      " 30  water_quality          59400 non-null  object \n",
      " 31  quality_group          59400 non-null  object \n",
      " 32  quantity               59400 non-null  object \n",
      " 33  quantity_group         59400 non-null  object \n",
      " 34  source                 59400 non-null  object \n",
      " 35  source_type            59400 non-null  object \n",
      " 36  source_class           59400 non-null  object \n",
      " 37  waterpoint_type        59400 non-null  object \n",
      " 38  waterpoint_type_group  59400 non-null  object \n",
      " 39  status_group           59400 non-null  object \n",
      "dtypes: float64(3), int64(6), object(31)\n",
      "memory usage: 21.1+ MB\n"
     ]
    },
    {
     "data": {
      "text/plain": [
       "None"
      ]
     },
     "metadata": {},
     "output_type": "display_data"
    }
   ],
   "source": [
    "display(df.info())"
   ]
  },
  {
   "cell_type": "code",
   "execution_count": 6,
   "metadata": {},
   "outputs": [
    {
     "data": {
      "text/plain": [
       "amount_tsh               False\n",
       "date_recorded            False\n",
       "funder                    True\n",
       "gps_height               False\n",
       "installer                 True\n",
       "longitude                False\n",
       "latitude                 False\n",
       "wpt_name                 False\n",
       "num_private              False\n",
       "basin                    False\n",
       "subvillage                True\n",
       "region                   False\n",
       "region_code              False\n",
       "district_code            False\n",
       "lga                      False\n",
       "ward                     False\n",
       "population               False\n",
       "public_meeting            True\n",
       "recorded_by              False\n",
       "scheme_management         True\n",
       "scheme_name               True\n",
       "permit                    True\n",
       "construction_year        False\n",
       "extraction_type          False\n",
       "extraction_type_group    False\n",
       "extraction_type_class    False\n",
       "management               False\n",
       "management_group         False\n",
       "payment                  False\n",
       "payment_type             False\n",
       "water_quality            False\n",
       "quality_group            False\n",
       "quantity                 False\n",
       "quantity_group           False\n",
       "source                   False\n",
       "source_type              False\n",
       "source_class             False\n",
       "waterpoint_type          False\n",
       "waterpoint_type_group    False\n",
       "status_group             False\n",
       "dtype: bool"
      ]
     },
     "execution_count": 6,
     "metadata": {},
     "output_type": "execute_result"
    }
   ],
   "source": [
    "df.isnull().any()"
   ]
  },
  {
   "cell_type": "code",
   "execution_count": null,
   "metadata": {},
   "outputs": [],
   "source": [
    "display(df.describe())"
   ]
  },
  {
   "cell_type": "markdown",
   "metadata": {},
   "source": [
    "## Data classification\n",
    "In this section we us the provided [Data Summary](https://www.drivendata.org/competitions/7/pump-it-up-data-mining-the-water-table/page/25/) classify variables.\n",
    "\n",
    "### Geographical data\n",
    "There are several variables that describe the geography of waterpoints. These variables fall into two subclasses.\n",
    "\n",
    "#### Quantitative\n",
    "The variables below provide geo-spatial coordinates for the waterpoint.\n",
    "* `longitude` - GPS coordinate. Valid values fall in the interval [29.6, 40.4].\n",
    "* `latitude` - GPS coordinate. Valid values fall in the interval [-11.7, -0.8].\n",
    "* `gps_height` - Altitude of the well. Valid values fall in the interval [0, 5895] meters.\n",
    "\n",
    "#### Qualitative\n",
    "The variables below provide a categorical description of waterpont location.\n",
    "* `region` (`region_code`)  - Names (codes) for top-level administrative regions. There are 31 total [Link](https://en.wikipedia.org/wiki/Regions_of_Tanzania)\n",
    "* `lga` (`district_code`) - Names (codes) for districts, which divide regions.\n",
    "* `ward` - Names for wards, which divide districts.\n",
    "* `subvillage` - Names for sub-villages, presumably these subdivide wards. \n",
    "\n",
    "### Water Table\n",
    "* `basin` - Geographic water basin\n",
    "* `water_quality` - The quality of the water\n",
    "* `quality_group` - The quality of the water\n",
    "* `quantity` - The quantity of water\n",
    "* `quantity_group` - The quantity of water\n",
    "* `source` - The source of the water\n",
    "* `source_type` - The source of the water\n",
    "* `source_class` - The source of the water\n",
    "\n",
    "### Waterpoint\n",
    "* `wpt_name` - Name of the waterpoint if there is one\n",
    "* `amount_tsh` - Total static head (amount water available to waterpoint)\n",
    "* `extraction_type` - The kind of extraction the waterpoint uses\n",
    "* `extraction_type_group` - The kind of extraction the waterpoint uses\n",
    "* `extraction_type_class` - The kind of extraction the waterpoint uses\n",
    "* `waterpoint_type` - The kind of waterpoint\n",
    "* `waterpoint_type_group` - The kind of waterpoint\n",
    "* `population` - Population around the well\n",
    "\n",
    "### Waterpoint Management\n",
    "* `scheme_management` Who operates the waterpoint\n",
    "* `scheme_name` - Who operates the waterpoint\n",
    "* `permit` - If the waterpoint is permitted\n",
    "* `management` - How the waterpoint is managed\n",
    "* `management_group` - How the waterpoint is managed\n",
    "* `payment` - What the water costs\n",
    "* `payment_type` - What the water costs\n",
    "\n",
    "### Waterpoint Installation\n",
    "* `construction_year` - Year the waterpoint was constructed\n",
    "* `funder` - Who funded the well\n",
    "* `installer` - Organization that installed the well\n",
    "\n",
    "### Data collection\n",
    "* `date_recorded` - The date the row was entered\n",
    "* `recorded_by` - Group entering this row of data\n",
    "\n",
    "### Unknown\n",
    "* `num_private` -\n",
    "* `public_meeting` - True/False"
   ]
  },
  {
   "cell_type": "markdown",
   "metadata": {},
   "source": [
    "## Inspecting Geographical Data"
   ]
  },
  {
   "cell_type": "markdown",
   "metadata": {},
   "source": [
    "### Quantitative\n",
    "The variables below provide geo-spatial coordinates for the waterpoint.\n",
    "* `longitude` - GPS coordinate. Valid values fall in the interval [29.6, 40.4].\n",
    "* `latitude` - GPS coordinate. Valid values fall in the interval [-11.7, -0.8].\n",
    "* `gps_height` - Altitude of the well. Valid values fall in the interval [0, 5895] meters.\n",
    "Below we map a random sample of 500 waterpoints."
   ]
  },
  {
   "cell_type": "code",
   "execution_count": null,
   "metadata": {},
   "outputs": [],
   "source": [
    "quantGeo = df[['longitude', 'latitude', 'gps_height', 'status_group']]\n",
    "index_sample = list(np.random.choice(quantGeo.index, 500, replace=False))\n",
    "sample = quantGeo.loc[index_sample]\n"
   ]
  },
  {
   "cell_type": "code",
   "execution_count": null,
   "metadata": {},
   "outputs": [],
   "source": [
    "import folium\n",
    "\n",
    "lat =  -6.3728\n",
    "long = 34.8925\n",
    "\n",
    "#Create a map of the area\n",
    "base_map = folium.Map([lat, long], zoom_start=6)"
   ]
  },
  {
   "cell_type": "code",
   "execution_count": null,
   "metadata": {},
   "outputs": [],
   "source": [
    "color_dict = {\n",
    "    'functional' : 'green',\n",
    "    'non functional': 'red',\n",
    "    'functional needs repair': 'orange'\n",
    "}\n",
    "\n",
    "for index in sample.index:\n",
    "        lat = sample['latitude'][index]\n",
    "        long = sample['longitude'][index]\n",
    "        status = str(sample['status_group'][index])\n",
    "        color = color_dict[status]\n",
    "        marker = folium.Circle(location=[lat, long], radius=1, popup=[lat, long], color=color)\n",
    "        marker.add_to(base_map)"
   ]
  },
  {
   "cell_type": "code",
   "execution_count": null,
   "metadata": {
    "scrolled": true
   },
   "outputs": [],
   "source": [
    "base_map"
   ]
  },
  {
   "cell_type": "code",
   "execution_count": null,
   "metadata": {},
   "outputs": [],
   "source": [
    "plt.figure(figsize=(10,10))\n",
    "plt.scatter(x='latitude', y='longitude', c='gps_height', data=quantGeo)\n",
    "plt.colorbar()"
   ]
  },
  {
   "cell_type": "markdown",
   "metadata": {},
   "source": [
    "#### Conclusions\n",
    "There are a handful of waterpoints with bad `latitude` and `longitude`, there are also some waterpoints with negative `gps_height`."
   ]
  },
  {
   "cell_type": "markdown",
   "metadata": {},
   "source": [
    "### Qualitative \n",
    "The variables below provide a categorical description of waterpont location.\n",
    "* `region` (`region_code`)  - Names (codes) for top-level administrative regions. There are 31 total [Link](https://en.wikipedia.org/wiki/Regions_of_Tanzania)\n",
    "* `lga` (`district_code`) - Names (codes) for districts, which divide regions.\n",
    "* `ward` - Names for wards, which divide districts.\n",
    "* `subvillage` - Names for sub-villages, presumably these subdivide wards. "
   ]
  },
  {
   "cell_type": "code",
   "execution_count": null,
   "metadata": {},
   "outputs": [],
   "source": [
    "qualGeo = df[['region', 'region_code', 'lga', 'district_code', 'ward', 'subvillage', 'status_group', 'wpt_name']]\n",
    "qualGeo.groupby(by=['region', 'region_code', 'lga', 'district_code', 'ward', 'subvillage', 'status_group']).count()"
   ]
  },
  {
   "cell_type": "code",
   "execution_count": null,
   "metadata": {},
   "outputs": [],
   "source": [
    "qualGeo = df[['region', 'lga', 'ward', 'subvillage', 'wpt_name']]\n",
    "qualGeo.groupby(by=['region', 'lga', 'ward', 'subvillage']).count()"
   ]
  },
  {
   "cell_type": "markdown",
   "metadata": {},
   "source": [
    "### Conclusions\n",
    "* Both `region_code` and `district_code` seem to be non-standard encodings and should probably be dropped.\n",
    "* `lga` provides the names of districts.\n",
    "* `ward` and `subvillage` have a huge number of values."
   ]
  },
  {
   "cell_type": "markdown",
   "metadata": {},
   "source": [
    "### Inspecting Water Table Data\n",
    "* `basin` - Geographic water basin\n",
    "* `water_quality` - The quality of the water\n",
    "* `quality_group` - The quality of the water\n",
    "* `quantity` - The quantity of water\n",
    "* `quantity_group` - The quantity of water\n",
    "* `source` - The source of the water\n",
    "* `source_type` - The source of the water\n",
    "* `source_class` - The source of the water"
   ]
  },
  {
   "cell_type": "code",
   "execution_count": null,
   "metadata": {},
   "outputs": [],
   "source": [
    "waterQuality = df[['quality_group', 'water_quality', 'status_group', 'wpt_name']]\n",
    "waterQuality.groupby(by=['quality_group', 'water_quality', 'status_group']).count()"
   ]
  },
  {
   "cell_type": "code",
   "execution_count": null,
   "metadata": {},
   "outputs": [],
   "source": [
    "waterQuantity = df[['quantity_group', 'quantity', 'status_group', 'wpt_name']]\n",
    "waterQuantity.groupby(by=['quantity_group', 'quantity', 'status_group']).count()"
   ]
  },
  {
   "cell_type": "code",
   "execution_count": null,
   "metadata": {},
   "outputs": [],
   "source": [
    "df['basin'].value_counts()"
   ]
  },
  {
   "cell_type": "code",
   "execution_count": null,
   "metadata": {},
   "outputs": [],
   "source": [
    "waterSource = df[['source_class', 'source_type', 'source', 'status_group', 'wpt_name']]\n",
    "waterSource.groupby(by=['source_class', 'source_type', 'source', 'status_group']).count()"
   ]
  },
  {
   "cell_type": "markdown",
   "metadata": {},
   "source": [
    "#### Conclusions\n",
    "* `water_quality` provides information about whether a waterpoint is abandoned.\n",
    "* `quantity` and `quantity_group` are duplicate columns.\n",
    "* `source_class`, `source_type`, and `source` all provide essentially the same data. `source_class` seems like the best variable for initial investigation."
   ]
  },
  {
   "cell_type": "markdown",
   "metadata": {},
   "source": [
    "## Inspecting Waterpoint Data\n",
    "* `wpt_name` - Name of the waterpoint if there is one\n",
    "* `amount_tsh` - Total static head (amount water available to waterpoint)\n",
    "* `extraction_type` - The kind of extraction the waterpoint uses\n",
    "* `extraction_type_group` - The kind of extraction the waterpoint uses\n",
    "* `extraction_type_class` - The kind of extraction the waterpoint uses\n",
    "* `waterpoint_type` - The kind of waterpoint\n",
    "* `waterpoint_type_group` - The kind of waterpoint\n",
    "* `population` - Population around the well"
   ]
  },
  {
   "cell_type": "code",
   "execution_count": null,
   "metadata": {},
   "outputs": [],
   "source": [
    "df['amount_tsh'].value_counts()"
   ]
  },
  {
   "cell_type": "code",
   "execution_count": null,
   "metadata": {},
   "outputs": [],
   "source": [
    "df[['extraction_type_group', 'extraction_type_class', 'extraction_type']].value_counts()"
   ]
  },
  {
   "cell_type": "code",
   "execution_count": null,
   "metadata": {},
   "outputs": [],
   "source": [
    "df[['waterpoint_type_group', 'waterpoint_type']].value_counts()"
   ]
  },
  {
   "cell_type": "code",
   "execution_count": null,
   "metadata": {},
   "outputs": [],
   "source": [
    "df['population'].value_counts()"
   ]
  },
  {
   "cell_type": "code",
   "execution_count": null,
   "metadata": {},
   "outputs": [],
   "source": [
    "df[df['population']>0]['population'].apply(lambda x: np.log(x)).hist()"
   ]
  },
  {
   "cell_type": "markdown",
   "metadata": {},
   "source": [
    "#### Conclusions\n",
    "* `amount_tsh` has a large number of zero values. It is hard to say if these represent missing values. Non-zero values would most likely benefit from log transform. \n",
    "* `extraction_type_class` seems to provide a good classification of pumps. Both `extraction_type_group` and `extraction_type` seem to be a mixture of models and types that is unlikely to provide much insight.\n",
    "* `waterpoint_type_group` and `waterpoint_type` are essentially duplicate columns. I prefer the terminology used in `waterpoint_type_group`.\n",
    "* `population` seems to use zero as a placeholder for missing values. Non-zero values might benefit from a log transformation."
   ]
  },
  {
   "cell_type": "markdown",
   "metadata": {},
   "source": [
    "## Inspecting Waterpoint Management Data\n",
    "* `scheme_management` Who operates the waterpoint\n",
    "* `scheme_name` - Who operates the waterpoint\n",
    "* `permit` - If the waterpoint is permitted\n",
    "* `management` - How the waterpoint is managed\n",
    "* `management_group` - How the waterpoint is managed\n",
    "* `payment` - What the water costs\n",
    "* `payment_type` - What the water costs"
   ]
  },
  {
   "cell_type": "code",
   "execution_count": null,
   "metadata": {},
   "outputs": [],
   "source": [
    "df[['scheme_management', 'scheme_name', 'status_group', 'wpt_name']].groupby(by=['scheme_management', 'scheme_name', 'status_group']).count()"
   ]
  },
  {
   "cell_type": "code",
   "execution_count": null,
   "metadata": {},
   "outputs": [],
   "source": [
    "df['scheme_name'].value_counts()"
   ]
  },
  {
   "cell_type": "code",
   "execution_count": null,
   "metadata": {},
   "outputs": [],
   "source": [
    "df[['management_group', 'management', 'status_group', 'wpt_name']].groupby(by=['management_group', 'management', 'status_group']).count()"
   ]
  },
  {
   "cell_type": "code",
   "execution_count": null,
   "metadata": {},
   "outputs": [],
   "source": [
    "df[['payment_type', 'payment']].value_counts()"
   ]
  },
  {
   "cell_type": "markdown",
   "metadata": {},
   "source": [
    "### Conclusions\n",
    "* `scheme_name` seems to be describing the particular entity in charge of managing the waterpoint. This data may be overly granular.\n",
    "* `scheme_management` describes the type of entity that manages the waterpoint.\n",
    "* `management_group` and `management` seem to also describe management of the waterpoint. This representation seems to me better designed.\n",
    "* `payment_type` and `payment` are duplicate columns with `payment` having the more descriptive labels."
   ]
  },
  {
   "cell_type": "markdown",
   "metadata": {},
   "source": [
    "## Inspecting Waterpoint Installation Data\n",
    "* `construction_year` - Year the waterpoint was constructed\n",
    "* `funder` - Who funded the well\n",
    "* `installer` - Organization that installed the well"
   ]
  },
  {
   "cell_type": "code",
   "execution_count": null,
   "metadata": {},
   "outputs": [],
   "source": [
    "df[['construction_year']].value_counts()"
   ]
  },
  {
   "cell_type": "code",
   "execution_count": null,
   "metadata": {},
   "outputs": [],
   "source": [
    "df[['funder']].value_counts()"
   ]
  },
  {
   "cell_type": "code",
   "execution_count": null,
   "metadata": {
    "scrolled": true
   },
   "outputs": [],
   "source": [
    "df[['installer']].value_counts()"
   ]
  },
  {
   "cell_type": "markdown",
   "metadata": {},
   "source": [
    "### Conclusions \n",
    "* zero seems to be a placeholder for missing values in the `construction_year` column.\n",
    "* Both `installer` and `funder` have a huge number of labels. "
   ]
  },
  {
   "cell_type": "markdown",
   "metadata": {},
   "source": [
    "# Target class imbalance"
   ]
  },
  {
   "cell_type": "code",
   "execution_count": null,
   "metadata": {},
   "outputs": [],
   "source": [
    "df['status_group'].value_counts(normalize=True)"
   ]
  },
  {
   "cell_type": "markdown",
   "metadata": {},
   "source": [
    "# Overall Conclusions\n",
    "* There are a small number of incorrect gps locations. These should be cleaned.\n",
    "* the variables `region`, `lga`, `ward`, and `subvillage` provide a hierarchical description of the location of waterpoints.\n",
    "* `region_code` and `district_code` should be dropped.\n",
    "* `quantity_group` duplicates `quantity` and should be dropped.\n",
    "* `quality_group` provides information about the quality of the water.\n",
    "* `water_quality` could be engineered into a boolean `is_abandoned` variable.\n",
    "* Keep `source_class`. Drop `source_type` and `source`.\n",
    "* `amount_tsh` has a large number of zero values. It is hard to say if these represent missing values. Non-zero values would most likely benefit from log transform. \n",
    "* `extraction_type_class` seems to provide a good classification of pumps. Both `extraction_type_group` and `extraction_type` seem to be a mixture of pump models and types that is unlikely to provide much insight.\n",
    "* `waterpoint_type_group` and `waterpoint_type` are essentially duplicate columns. I prefer the terminology used in `waterpoint_type_group`.\n",
    "* `population` seems to use zero as a placeholder for missing values. Non-zero values might benefit from a log transformation.\n",
    "* `scheme_name` seems to be describing the particular entity in charge of managing the waterpoint. This data may be overly granular.\n",
    "* `scheme_management` describes the type of entity that manages the waterpoint.\n",
    "* `management_group` and `management` seem to also describe management of the waterpoint. This representation seems to me better designed.\n",
    "* `payment_type` and `payment` are duplicate columns with `payment` having the more descriptive labels.\n",
    "* zero seems to be a placeholder for missing values in the `construction_year` column.\n",
    "* Both `installer` and `funder` have a huge number of labels. \n",
    "\n",
    "## Drop\n",
    "* `region_code`\n",
    "* `district_code`\n",
    "* `quantity_group`\n",
    "* `water_quality` (or engineer into `is_abandoned`)\n",
    "* `source_type`\n",
    "* `source`\n",
    "* `extraction_type_group`\n",
    "* `extraction_type`\n",
    "* `waterpoint_type`\n",
    "* `scheme_name` (high dimensionality will require engineering otherwise)\n",
    "* `scheme_management` (better represented in `management_group` and `management`)\n",
    "* `payment_type`\n",
    "* `installer` (high dimensionality will require engineering otherwise)\n",
    "* `funder` (high dimensionality will require engineering otherwise)\n",
    "\n"
   ]
  },
  {
   "cell_type": "code",
   "execution_count": null,
   "metadata": {},
   "outputs": [],
   "source": []
  }
 ],
 "metadata": {
  "kernelspec": {
   "display_name": "flatiron",
   "language": "python",
   "name": "flatiron"
  },
  "language_info": {
   "codemirror_mode": {
    "name": "ipython",
    "version": 3
   },
   "file_extension": ".py",
   "mimetype": "text/x-python",
   "name": "python",
   "nbconvert_exporter": "python",
   "pygments_lexer": "ipython3",
   "version": "3.6.9"
  }
 },
 "nbformat": 4,
 "nbformat_minor": 4
}
