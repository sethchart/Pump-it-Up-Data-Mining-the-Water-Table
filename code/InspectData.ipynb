{
 "cells": [
  {
   "cell_type": "markdown",
   "metadata": {},
   "source": [
    "## Inspecting the Training Data\n",
    "In this section we inspect the training data and group variables for further analysis."
   ]
  },
  {
   "cell_type": "markdown",
   "metadata": {},
   "source": [
    "### Importing the Train Test Split\n",
    "Below we import the train test split that we created in the [ImportData](ImportData.ipynb) notebook. The `train_test_split` object is a dictionary containing dataframes as values."
   ]
  },
  {
   "cell_type": "code",
   "execution_count": 1,
   "metadata": {},
   "outputs": [],
   "source": [
    "import pickle\n",
    "with open('../data/train_test_split.pkl', mode='rb') as f:\n",
    "    train_teast_split = pickle.load(f)"
   ]
  },
  {
   "cell_type": "markdown",
   "metadata": {},
   "source": [
    "### Extracting Training Data"
   ]
  },
  {
   "cell_type": "code",
   "execution_count": 2,
   "metadata": {},
   "outputs": [],
   "source": [
    "X_train = train_teast_split['X_train']\n",
    "y_train = train_teast_split['y_train']"
   ]
  },
  {
   "cell_type": "markdown",
   "metadata": {},
   "source": [
    "### Inspecting the Shape of the Training Data\n",
    "We observe that our training data contains 53,460 observations of thirty-nine features and one target."
   ]
  },
  {
   "cell_type": "code",
   "execution_count": 3,
   "metadata": {},
   "outputs": [
    {
     "name": "stdout",
     "output_type": "stream",
     "text": [
      "X_train shape:  (53460, 39)\n",
      "y_train shape:  (53460,)\n"
     ]
    }
   ],
   "source": [
    "print('X_train shape: ', X_train.shape)\n",
    "print('y_train shape: ', y_train.shape)"
   ]
  },
  {
   "cell_type": "markdown",
   "metadata": {},
   "source": [
    "### Inspecting Data Types\n",
    "Below we see that out of thirty-nine features nine are numerical and 30 are categorical."
   ]
  },
  {
   "cell_type": "code",
   "execution_count": 4,
   "metadata": {},
   "outputs": [
    {
     "data": {
      "text/plain": [
       "object     30\n",
       "int64       6\n",
       "float64     3\n",
       "dtype: int64"
      ]
     },
     "execution_count": 4,
     "metadata": {},
     "output_type": "execute_result"
    }
   ],
   "source": [
    "X_train.dtypes.value_counts()"
   ]
  },
  {
   "cell_type": "markdown",
   "metadata": {},
   "source": [
    "The list below shows the data type for each feature."
   ]
  },
  {
   "cell_type": "code",
   "execution_count": 5,
   "metadata": {},
   "outputs": [
    {
     "data": {
      "text/plain": [
       "amount_tsh               float64\n",
       "basin                     object\n",
       "construction_year          int64\n",
       "date_recorded             object\n",
       "district_code              int64\n",
       "extraction_type           object\n",
       "extraction_type_class     object\n",
       "extraction_type_group     object\n",
       "funder                    object\n",
       "gps_height                 int64\n",
       "installer                 object\n",
       "latitude                 float64\n",
       "lga                       object\n",
       "longitude                float64\n",
       "management                object\n",
       "management_group          object\n",
       "num_private                int64\n",
       "payment                   object\n",
       "payment_type              object\n",
       "permit                    object\n",
       "population                 int64\n",
       "public_meeting            object\n",
       "quality_group             object\n",
       "quantity                  object\n",
       "quantity_group            object\n",
       "recorded_by               object\n",
       "region                    object\n",
       "region_code                int64\n",
       "scheme_management         object\n",
       "scheme_name               object\n",
       "source                    object\n",
       "source_class              object\n",
       "source_type               object\n",
       "subvillage                object\n",
       "ward                      object\n",
       "water_quality             object\n",
       "waterpoint_type           object\n",
       "waterpoint_type_group     object\n",
       "wpt_name                  object\n",
       "dtype: object"
      ]
     },
     "execution_count": 5,
     "metadata": {},
     "output_type": "execute_result"
    }
   ],
   "source": [
    "X_train.dtypes.sort_index()"
   ]
  },
  {
   "cell_type": "markdown",
   "metadata": {},
   "source": [
    "Note that the `date_recorded` variable contains string encoded dates. Otherwise, the assigned data types seem reasonable."
   ]
  },
  {
   "cell_type": "code",
   "execution_count": 6,
   "metadata": {},
   "outputs": [
    {
     "data": {
      "text/html": [
       "<div>\n",
       "<style scoped>\n",
       "    .dataframe tbody tr th:only-of-type {\n",
       "        vertical-align: middle;\n",
       "    }\n",
       "\n",
       "    .dataframe tbody tr th {\n",
       "        vertical-align: top;\n",
       "    }\n",
       "\n",
       "    .dataframe thead th {\n",
       "        text-align: right;\n",
       "    }\n",
       "</style>\n",
       "<table border=\"1\" class=\"dataframe\">\n",
       "  <thead>\n",
       "    <tr style=\"text-align: right;\">\n",
       "      <th></th>\n",
       "      <th>date_recorded</th>\n",
       "    </tr>\n",
       "    <tr>\n",
       "      <th>id</th>\n",
       "      <th></th>\n",
       "    </tr>\n",
       "  </thead>\n",
       "  <tbody>\n",
       "    <tr>\n",
       "      <th>31080</th>\n",
       "      <td>2012-10-10</td>\n",
       "    </tr>\n",
       "    <tr>\n",
       "      <th>17282</th>\n",
       "      <td>2013-02-16</td>\n",
       "    </tr>\n",
       "    <tr>\n",
       "      <th>72545</th>\n",
       "      <td>2011-03-20</td>\n",
       "    </tr>\n",
       "    <tr>\n",
       "      <th>44490</th>\n",
       "      <td>2012-10-12</td>\n",
       "    </tr>\n",
       "    <tr>\n",
       "      <th>67816</th>\n",
       "      <td>2013-02-04</td>\n",
       "    </tr>\n",
       "  </tbody>\n",
       "</table>\n",
       "</div>"
      ],
      "text/plain": [
       "      date_recorded\n",
       "id                 \n",
       "31080    2012-10-10\n",
       "17282    2013-02-16\n",
       "72545    2011-03-20\n",
       "44490    2012-10-12\n",
       "67816    2013-02-04"
      ]
     },
     "execution_count": 6,
     "metadata": {},
     "output_type": "execute_result"
    }
   ],
   "source": [
    "X_train[['date_recorded']].head()"
   ]
  },
  {
   "cell_type": "markdown",
   "metadata": {},
   "source": [
    "### Checking for Missing Values\n",
    "Below we check for features with missing values. There are seven features with missing values and thirty-two without."
   ]
  },
  {
   "cell_type": "code",
   "execution_count": 7,
   "metadata": {},
   "outputs": [
    {
     "data": {
      "text/plain": [
       "False    32\n",
       "True      7\n",
       "dtype: int64"
      ]
     },
     "execution_count": 7,
     "metadata": {},
     "output_type": "execute_result"
    }
   ],
   "source": [
    "X_train.isnull().any().value_counts()"
   ]
  },
  {
   "cell_type": "markdown",
   "metadata": {},
   "source": [
    "The list below shows which features have missing values."
   ]
  },
  {
   "cell_type": "code",
   "execution_count": 8,
   "metadata": {},
   "outputs": [
    {
     "data": {
      "text/plain": [
       "amount_tsh               False\n",
       "basin                    False\n",
       "construction_year        False\n",
       "date_recorded            False\n",
       "district_code            False\n",
       "extraction_type          False\n",
       "extraction_type_class    False\n",
       "extraction_type_group    False\n",
       "funder                    True\n",
       "gps_height               False\n",
       "installer                 True\n",
       "latitude                 False\n",
       "lga                      False\n",
       "longitude                False\n",
       "management               False\n",
       "management_group         False\n",
       "num_private              False\n",
       "payment                  False\n",
       "payment_type             False\n",
       "permit                    True\n",
       "population               False\n",
       "public_meeting            True\n",
       "quality_group            False\n",
       "quantity                 False\n",
       "quantity_group           False\n",
       "recorded_by              False\n",
       "region                   False\n",
       "region_code              False\n",
       "scheme_management         True\n",
       "scheme_name               True\n",
       "source                   False\n",
       "source_class             False\n",
       "source_type              False\n",
       "subvillage                True\n",
       "ward                     False\n",
       "water_quality            False\n",
       "waterpoint_type          False\n",
       "waterpoint_type_group    False\n",
       "wpt_name                 False\n",
       "dtype: bool"
      ]
     },
     "execution_count": 8,
     "metadata": {},
     "output_type": "execute_result"
    }
   ],
   "source": [
    "X_train.isnull().any().sort_index()"
   ]
  },
  {
   "cell_type": "markdown",
   "metadata": {},
   "source": [
    "### Classification of Features\n",
    "Below we group features by the type of data that they contain. We referred to the competition [feature descriptions](https://www.drivendata.org/competitions/7/pump-it-up-data-mining-the-water-table/page/25/) when grouping variables."
   ]
  },
  {
   "cell_type": "code",
   "execution_count": 9,
   "metadata": {},
   "outputs": [],
   "source": [
    "feature_classification = {\n",
    "    'Geospatial': [\n",
    "        'longitude',\n",
    "        'latitude',\n",
    "        'gps_height'\n",
    "    ],\n",
    "    'Regional': [\n",
    "        'region',\n",
    "        'region_code',\n",
    "        'lga',\n",
    "        'district_code',\n",
    "        'ward',\n",
    "        'subvillage'\n",
    "    ],\n",
    "    'Water': [\n",
    "        'basin',\n",
    "        'water_quality',\n",
    "        'quality_group',\n",
    "        'quantity',\n",
    "        'quantity_group',\n",
    "        'source',\n",
    "        'source_class',\n",
    "        'source_type'\n",
    "    ],\n",
    "    'WaterpointNumerical': [\n",
    "        'amount_tsh',\n",
    "        'population'\n",
    "    ],\n",
    "    'WaterpointCategorical': [\n",
    "        'wpt_name',\n",
    "        'extraction_type',\n",
    "        'extraction_type_class',\n",
    "        'extraction_type_group',\n",
    "        'waterpoint_type',\n",
    "        'waterpoint_type_group'\n",
    "    ],\n",
    "    'Management': [\n",
    "        'management',\n",
    "        'management_group',\n",
    "        'payment',\n",
    "        'payment_type',\n",
    "        'permit', \n",
    "        'scheme_management', \n",
    "        'scheme_name'\n",
    "    ],\n",
    "    'Installation': [\n",
    "        'construction_year',\n",
    "        'installer',\n",
    "        'funder'\n",
    "    ],\n",
    "    'Data Collection': [\n",
    "        'date_recorded',\n",
    "        'recorded_by'\n",
    "    ],\n",
    "    'Unknown': [\n",
    "        'num_private',\n",
    "        'public_meeting'\n",
    "    ]\n",
    "}"
   ]
  },
  {
   "cell_type": "code",
   "execution_count": 10,
   "metadata": {},
   "outputs": [
    {
     "name": "stdout",
     "output_type": "stream",
     "text": [
      "-  Geospatial\n",
      "\t-  longitude\n",
      "\t-  latitude\n",
      "\t-  gps_height\n",
      "-  Regional\n",
      "\t-  region\n",
      "\t-  region_code\n",
      "\t-  lga\n",
      "\t-  district_code\n",
      "\t-  ward\n",
      "\t-  subvillage\n",
      "-  Water\n",
      "\t-  basin\n",
      "\t-  water_quality\n",
      "\t-  quality_group\n",
      "\t-  quantity\n",
      "\t-  quantity_group\n",
      "\t-  source\n",
      "\t-  source_class\n",
      "\t-  source_type\n",
      "-  WaterpointNumerical\n",
      "\t-  amount_tsh\n",
      "\t-  population\n",
      "-  WaterpointCategorical\n",
      "\t-  wpt_name\n",
      "\t-  extraction_type\n",
      "\t-  extraction_type_class\n",
      "\t-  extraction_type_group\n",
      "\t-  waterpoint_type\n",
      "\t-  waterpoint_type_group\n",
      "-  Management\n",
      "\t-  management\n",
      "\t-  management_group\n",
      "\t-  payment\n",
      "\t-  payment_type\n",
      "\t-  permit\n",
      "\t-  scheme_management\n",
      "\t-  scheme_name\n",
      "-  Installation\n",
      "\t-  construction_year\n",
      "\t-  installer\n",
      "\t-  funder\n",
      "-  Data Collection\n",
      "\t-  date_recorded\n",
      "\t-  recorded_by\n",
      "-  Unknown\n",
      "\t-  num_private\n",
      "\t-  public_meeting\n",
      "\n",
      "Total Feature Count:  39\n",
      "Unclassified Features:  []\n"
     ]
    }
   ],
   "source": [
    "feature_count = 0\n",
    "cols = list(X_train.columns)\n",
    "for key in feature_classification.keys():\n",
    "    print('- ', key)\n",
    "    for feature in feature_classification[key]:\n",
    "        print('\\t- ', feature)\n",
    "        cols.remove(feature)\n",
    "        feature_count += 1\n",
    "print('\\nTotal Feature Count: ', feature_count)\n",
    "print('Unclassified Features: ', cols)"
   ]
  },
  {
   "cell_type": "markdown",
   "metadata": {},
   "source": [
    "### Future Work \n",
    "Write a class to wrap the pickled test train split."
   ]
  },
  {
   "cell_type": "code",
   "execution_count": null,
   "metadata": {},
   "outputs": [],
   "source": []
  }
 ],
 "metadata": {
  "kernelspec": {
   "display_name": "flatiron",
   "language": "python",
   "name": "flatiron"
  },
  "language_info": {
   "codemirror_mode": {
    "name": "ipython",
    "version": 3
   },
   "file_extension": ".py",
   "mimetype": "text/x-python",
   "name": "python",
   "nbconvert_exporter": "python",
   "pygments_lexer": "ipython3",
   "version": "3.6.9"
  }
 },
 "nbformat": 4,
 "nbformat_minor": 4
}
