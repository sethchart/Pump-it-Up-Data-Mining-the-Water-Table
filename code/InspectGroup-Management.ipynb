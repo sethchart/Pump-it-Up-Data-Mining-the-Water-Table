{
 "cells": [
  {
   "cell_type": "markdown",
   "metadata": {},
   "source": [
    "### Inspecting the Management Feature Group"
   ]
  },
  {
   "cell_type": "code",
   "execution_count": null,
   "metadata": {},
   "outputs": [],
   "source": [
    "from data_utilities import DataVisualization\n",
    "viz = DataVisualization()\n",
    "X_train = viz.X_train"
   ]
  },
  {
   "cell_type": "markdown",
   "metadata": {},
   "source": [
    "In this group, `scheme_managment`, `scheme_name` and `permit` all have missing values."
   ]
  },
  {
   "cell_type": "code",
   "execution_count": null,
   "metadata": {},
   "outputs": [],
   "source": [
    "management = ['scheme_management', 'scheme_name','management',\n",
    "                      'management_group', 'payment', 'payment_type', 'permit' ]\n",
    "X_train[management].isnull().any()"
   ]
  },
  {
   "cell_type": "markdown",
   "metadata": {},
   "source": [
    "It looks like `scheme_name` has a huge number of unique values. "
   ]
  },
  {
   "cell_type": "code",
   "execution_count": null,
   "metadata": {},
   "outputs": [],
   "source": [
    "for col in management:\n",
    "    print(f'- {col} has {len(X_train[col].unique())} unique values.')"
   ]
  },
  {
   "cell_type": "markdown",
   "metadata": {},
   "source": [
    "Below I have plotted the distribution of waterpoints with respect to each of the variables in the group excluding `scheme_name`."
   ]
  },
  {
   "cell_type": "code",
   "execution_count": null,
   "metadata": {
    "scrolled": true
   },
   "outputs": [],
   "source": [
    "management.remove('scheme_name')\n",
    "viz.barplot_waterpoints(management)"
   ]
  },
  {
   "cell_type": "markdown",
   "metadata": {},
   "source": [
    "#### Conclusion\n",
    "It seems likely that there is functional dependence between `scheme_management`, `management`, and `management_group`. Similarly, there is likely dependence between `payment` and `payment_type`. The payment variables seem to have more to do with how payment is collected, as opposed to how much the water costs. The `scheme_name` feature will be computationally expensive to include."
   ]
  }
 ],
 "metadata": {
  "kernelspec": {
   "display_name": "flatiron",
   "language": "python",
   "name": "flatiron"
  },
  "language_info": {
   "codemirror_mode": {
    "name": "ipython",
    "version": 3
   },
   "file_extension": ".py",
   "mimetype": "text/x-python",
   "name": "python",
   "nbconvert_exporter": "python",
   "pygments_lexer": "ipython3",
   "version": "3.6.9"
  }
 },
 "nbformat": 4,
 "nbformat_minor": 4
}
